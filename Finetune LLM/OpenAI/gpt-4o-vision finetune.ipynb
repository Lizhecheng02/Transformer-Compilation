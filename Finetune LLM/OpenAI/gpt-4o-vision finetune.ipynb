{
 "cells": [
  {
   "cell_type": "code",
   "execution_count": 1,
   "id": "26639e9e-483c-4a10-a0d1-453601c4b2ef",
   "metadata": {},
   "outputs": [],
   "source": [
    "from openai import OpenAI\n",
    "client = OpenAI()"
   ]
  },
  {
   "cell_type": "code",
   "execution_count": null,
   "id": "e6eea2fb-a8bc-4e02-9a74-5849860df164",
   "metadata": {},
   "outputs": [],
   "source": [
    "image_url = \"https://images.pickles.com.au/image/upload/f_auto,q_auto,w_2000/c_scale,g_south_east,l_pickles-logo-white_mipoap.png,o_60,w_0.4,fl_relative,x_0.02,y_0.02,fl_region_relative/v1726789702/asostfbejshw7ekod5xa.jpg\"\n",
    "image_url"
   ]
  },
  {
   "cell_type": "code",
   "execution_count": null,
   "id": "8625944c-7f66-4929-b1ae-12d65b821438",
   "metadata": {},
   "outputs": [],
   "source": [
    "response = client.chat.completions.create(\n",
    "  model=\"gpt-4o-mini\",\n",
    "  messages=[\n",
    "    {\n",
    "      \"role\": \"user\",\n",
    "      \"content\": [\n",
    "        {\n",
    "            \"type\": \"text\", \n",
    "            \"text\": \"What's in this image, answer in one senetence?\"\n",
    "        },\n",
    "        {\n",
    "          \"type\": \"image_url\",\n",
    "          \"image_url\": {\n",
    "            \"url\": image_url\n",
    "          },\n",
    "        }\n",
    "      ]\n",
    "    }\n",
    "  ],\n",
    "  max_tokens=100\n",
    ")\n",
    "\n",
    "print(response.choices[0])"
   ]
  },
  {
   "cell_type": "code",
   "execution_count": 13,
   "id": "6f56c1ad-3e8b-4e45-a0b2-8f5e351688f0",
   "metadata": {},
   "outputs": [],
   "source": [
    "image_path = \"car_damage/bumper_dent--minor--0001.jpeg\""
   ]
  },
  {
   "cell_type": "code",
   "execution_count": null,
   "id": "d3a0b2b6-a953-4607-ad39-46c65f389d14",
   "metadata": {},
   "outputs": [],
   "source": [
    "import base64\n",
    "\n",
    "def encode_image(image_path):\n",
    "  with open(image_path, \"rb\") as image_file:\n",
    "    return base64.b64encode(image_file.read()).decode(\"utf-8\")\n",
    "\n",
    "base64_image = encode_image(image_path)\n",
    "image_url  = f\"data:image/jpeg;base64,{base64_image}\"\n",
    "\n",
    "response = client.chat.completions.create(\n",
    "  model=\"gpt-4o-mini\",\n",
    "  messages=[\n",
    "    {\n",
    "      \"role\": \"user\",\n",
    "      \"content\": [\n",
    "        {\n",
    "          \"type\": \"text\", \n",
    "          \"text\": \"What's in this image, answer in one senetence?\"\n",
    "        },\n",
    "        {\n",
    "          \"type\": \"image_url\",\n",
    "          \"image_url\": {\n",
    "            \"url\": image_url\n",
    "          }\n",
    "        }\n",
    "      ]\n",
    "    }\n",
    "  ],\n",
    "  max_tokens=100\n",
    ")\n",
    "\n",
    "print(response.choices[0])"
   ]
  },
  {
   "cell_type": "code",
   "execution_count": null,
   "id": "0eb4e951-4254-4649-9500-919c1ef68f11",
   "metadata": {},
   "outputs": [],
   "source": [
    "{\n",
    "    \"messages\": [\n",
    "        {\n",
    "            \"role\": \"system\", \n",
    "            \"content\": \"You are an assistant that identifies which part of the car is damaged and the severity level of the damage\"\n",
    "        },\n",
    "        {\n",
    "            \"role\": \"user\", \n",
    "            \"content\": \"Identify which part of the car is damaged and the severity level of the damage.\"\n",
    "        },\n",
    "        {\n",
    "            \"role\": \"user\", \n",
    "            \"content\": [\n",
    "                {\n",
    "                    \"type\": \"image_url\", \n",
    "                    \"image_url\": { \n",
    "                        \"url\": image_url\n",
    "                    }\n",
    "                }\n",
    "            ]\n",
    "        },\n",
    "        {\n",
    "            \"role\": \"assistant\", \n",
    "            \"content\": \"doors\"\n",
    "        }\n",
    "    ]\n",
    "}"
   ]
  },
  {
   "cell_type": "code",
   "execution_count": 95,
   "id": "acc1308e-b506-421a-a79f-f65c5f18107b",
   "metadata": {},
   "outputs": [],
   "source": [
    "from pydantic import BaseModel\n",
    "\n",
    "class damage_output(BaseModel):\n",
    "    damaged_part: str\n",
    "    damge_type: str\n",
    "    damage_severity: str"
   ]
  },
  {
   "cell_type": "code",
   "execution_count": 96,
   "id": "0935abe7-e9af-4cd7-abfa-bbce310500a5",
   "metadata": {},
   "outputs": [],
   "source": [
    "import glob\n",
    "import json\n",
    "\n",
    "with open(\"car_damage_train.jsonl\", \"w\") as fp:\n",
    "    for image_path in glob.iglob(\"car_damage/*\"):\n",
    "        base64_image = encode_image(image_path)\n",
    "        image_url = f\"data:image/jpeg;base64,{base64_image}\"\n",
    "\n",
    "        ground_truth = image_path.split(\"/\")[-1][:-11].split(\"--\")\n",
    "        ground_truth = {\n",
    "            \"damaged_part\": ground_truth[0],\n",
    "            \"damage_type\": ground_truth[1],\n",
    "            \"damage_severity\": ground_truth[2]\n",
    "        }\n",
    "\n",
    "        # image_url = \"https://images.pickles.com.au/image/upload/f_auto,q_auto,w_2000/c_scale,g_south_east,l_pickles-logo-white_mipoap.png,o_60,w_0.4,fl_relative,x_0.02,y_0.02,fl_region_relative/v1726789702/asostfbejshw7ekod5xa.jpg\"\n",
    "\n",
    "        example = {\n",
    "            \"messages\": [\n",
    "                {\n",
    "                    \"role\": \"system\",\n",
    "                    \"content\": \"You are an assistant that identifies which part of the car is damaged, damage type and the severity level of the damage\"\n",
    "                },\n",
    "                {\n",
    "                    \"role\": \"user\",\n",
    "                    \"content\": \"Identify which part of the car is damaged and the severity level of the damage. Possible values for the damaged parts are: [bumper, door, glass]. Possible values for the damage types are: [dent, scratch, shatter]. Possible values for the severity level are: [minor, major].\"\n",
    "                },\n",
    "                {\n",
    "                    \"role\": \"user\",\n",
    "                    \"content\": [\n",
    "                        {\n",
    "                            \"type\": \"image_url\",\n",
    "                            \"image_url\": {\n",
    "                                \"url\": image_url\n",
    "                            }\n",
    "                        }\n",
    "                    ]\n",
    "                 },\n",
    "                {\n",
    "                    \"role\": \"assistant\", \n",
    "                    \"content\": f\"{ground_truth}\"\n",
    "                }\n",
    "            ]\n",
    "        }\n",
    "\n",
    "        example_str = json.dumps(example)\n",
    "        fp.write(example_str + \"\\n\")"
   ]
  },
  {
   "cell_type": "code",
   "execution_count": null,
   "id": "cbb8992f",
   "metadata": {},
   "outputs": [],
   "source": [
    "!head -n 1 car_damage_train.jsonl"
   ]
  },
  {
   "cell_type": "code",
   "execution_count": null,
   "id": "d48b88bf",
   "metadata": {},
   "outputs": [],
   "source": [
    "!tail -n 1 car_damage_train.jsonl"
   ]
  },
  {
   "cell_type": "code",
   "execution_count": null,
   "id": "19aeb95a",
   "metadata": {},
   "outputs": [],
   "source": [
    "response = client.files.create(\n",
    "    file=open(\"car_damage_train.jsonl\", \"rb\"),\n",
    "    purpose=\"fine-tune\"\n",
    ")\n",
    "print(response)"
   ]
  },
  {
   "cell_type": "code",
   "execution_count": null,
   "id": "6f1eab5c",
   "metadata": {},
   "outputs": [],
   "source": [
    "file_id = response.id\n",
    "print(file_id)"
   ]
  },
  {
   "cell_type": "code",
   "execution_count": null,
   "id": "2c9f7ecf",
   "metadata": {},
   "outputs": [],
   "source": [
    "response = client.fine_tuning.jobs.create(\n",
    "    training_file=file_id,\n",
    "    model=\"gpt-4o-2024-08-06\",\n",
    "    hyperparameters={\"n_epochs\": 1}\n",
    ")\n",
    "\n",
    "print(\"Fine-tune job is started\")\n",
    "ft_job_id = response.id"
   ]
  },
  {
   "cell_type": "code",
   "execution_count": null,
   "id": "77ae872a",
   "metadata": {},
   "outputs": [],
   "source": [
    "response = client.fine_tuning.jobs.list_events(fine_tuning_job_id=ft_job_id, limit=10)\n",
    "response"
   ]
  },
  {
   "cell_type": "code",
   "execution_count": null,
   "id": "ab34b177",
   "metadata": {},
   "outputs": [],
   "source": [
    "response = client.fine_tuning.jobs.retrieve(ft_job_id)\n",
    "print(response)"
   ]
  },
  {
   "cell_type": "code",
   "execution_count": null,
   "id": "945ed174",
   "metadata": {},
   "outputs": [],
   "source": [
    "result_files = response.result_files\n",
    "result_files"
   ]
  },
  {
   "cell_type": "code",
   "execution_count": null,
   "id": "e7f5426e",
   "metadata": {},
   "outputs": [],
   "source": [
    "fine_tuned_model = response.fine_tuned_model\n",
    "fine_tuned_model"
   ]
  },
  {
   "cell_type": "code",
   "execution_count": 89,
   "id": "cf00394e-764a-4bf1-b6aa-b6321152d0c1",
   "metadata": {},
   "outputs": [],
   "source": [
    "image_url = \"https://images.pickles.com.au/image/upload/f_auto,q_auto,w_2000/c_scale,g_south_east,l_pickles-logo-white_mipoap.png,o_60,w_0.4,fl_relative,x_0.02,y_0.02,fl_region_relative/v1726789702/asostfbejshw7ekod5xa.jpg\""
   ]
  },
  {
   "cell_type": "code",
   "execution_count": null,
   "id": "10af6915",
   "metadata": {},
   "outputs": [],
   "source": [
    "response = client.chat.completions.create(\n",
    "    model=fine_tuned_model,\n",
    "    messages=[\n",
    "        {\n",
    "            \"role\": \"user\",\n",
    "            \"content\": [\n",
    "                {\n",
    "                    \"type\": \"text\",\n",
    "                    \"text\": \"Identify which part of the car is damaged and the severity level of the damage. Possible values for the damaged parts are: [bumper, door, glass]. Possible values for the damage types are: [dent, scratch, shatter]. Possible values for the severity level are: [minor, major].\"\n",
    "                },\n",
    "                {\n",
    "                    \"type\": \"image_url\",\n",
    "                    \"image_url\": {\n",
    "                        \"url\": image_url,\n",
    "                    }\n",
    "                }\n",
    "            ]\n",
    "        }\n",
    "    ],\n",
    "    max_tokens=100\n",
    ")\n",
    "\n",
    "print(response.choices[0])"
   ]
  }
 ],
 "metadata": {
  "kernelspec": {
   "display_name": "py33",
   "language": "python",
   "name": "py33"
  },
  "language_info": {
   "codemirror_mode": {
    "name": "ipython",
    "version": 3
   },
   "file_extension": ".py",
   "mimetype": "text/x-python",
   "name": "python",
   "nbconvert_exporter": "python",
   "pygments_lexer": "ipython3",
   "version": "3.11.5"
  }
 },
 "nbformat": 4,
 "nbformat_minor": 5
}
