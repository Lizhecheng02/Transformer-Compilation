{
  "cells": [
    {
      "cell_type": "code",
      "execution_count": 1,
      "metadata": {
        "id": "ivNlBZ03aroy"
      },
      "outputs": [],
      "source": [
        "#!pip install timesfm"
      ]
    },
    {
      "cell_type": "code",
      "execution_count": null,
      "metadata": {
        "colab": {
          "base_uri": "https://localhost:8080/"
        },
        "id": "YbTmz080ar5J",
        "outputId": "b015f6ce-a46e-4b0f-d99e-b7ea18f69093"
      },
      "outputs": [],
      "source": [
        "import timesfm"
      ]
    },
    {
      "cell_type": "code",
      "execution_count": null,
      "metadata": {
        "colab": {
          "base_uri": "https://localhost:8080/",
          "height": 206
        },
        "id": "DdA-rH-Sar8M",
        "outputId": "6cf0bf7b-0c47-4bf4-f32c-8e2b6de7592a"
      },
      "outputs": [],
      "source": [
        "import pandas as pd\n",
        "data=pd.read_csv(\"Electric_Production.csv\")\n",
        "data.head()"
      ]
    },
    {
      "cell_type": "code",
      "execution_count": null,
      "metadata": {
        "colab": {
          "base_uri": "https://localhost:8080/",
          "height": 206
        },
        "id": "zgd9P8Htar_U",
        "outputId": "a55a34bc-8d22-4057-e61d-4b1ceb8f94a3"
      },
      "outputs": [],
      "source": [
        "data[\"DATE\"]=pd.to_datetime(data[\"DATE\"])\n",
        "data.head()"
      ]
    },
    {
      "cell_type": "code",
      "execution_count": null,
      "metadata": {
        "colab": {
          "base_uri": "https://localhost:8080/",
          "height": 112
        },
        "id": "f2jQugVVasCj",
        "outputId": "3ad3aa1a-9eb7-4012-de6e-be4a04571b44"
      },
      "outputs": [],
      "source": [
        "df = pd.DataFrame({\"unique_id\": [1] * len(data), \"ds\": data[\"DATE\"], \"y\":data[\"IPG2211A2N\"]})\n",
        "df.head(2)"
      ]
    },
    {
      "cell_type": "code",
      "execution_count": null,
      "metadata": {
        "colab": {
          "base_uri": "https://localhost:8080/"
        },
        "id": "omtKer0dLxCy",
        "outputId": "87374c4b-e7fd-4010-fc2a-d87e7c656c75"
      },
      "outputs": [],
      "source": [
        "len(df)"
      ]
    },
    {
      "cell_type": "code",
      "execution_count": null,
      "metadata": {
        "colab": {
          "base_uri": "https://localhost:8080/"
        },
        "id": "7I2po2fbasFU",
        "outputId": "680e547a-2118-4a57-ac25-5514d9265721"
      },
      "outputs": [],
      "source": [
        "split_idx = int(len(df) * 0.94)\n",
        "train_df = df[:split_idx]\n",
        "test_df = df[split_idx:]\n",
        "print(train_df.shape, test_df.shape)"
      ]
    },
    {
      "cell_type": "code",
      "execution_count": 9,
      "metadata": {
        "id": "CyfKYVn2LHUw"
      },
      "outputs": [],
      "source": [
        "tfm = timesfm.TimesFm(\n",
        "   context_len=512,       # Length of the context window for the model\n",
        "   horizon_len=24,        # Forecasting horizon length\n",
        "   input_patch_len=32,    # Length of input patches\n",
        "   output_patch_len=128,  # Length of output patches\n",
        "   num_layers=20,\n",
        "   model_dims=1280,\n",
        "   backend=\"cpu\"\n",
        ")"
      ]
    },
    {
      "cell_type": "code",
      "execution_count": null,
      "metadata": {
        "colab": {
          "base_uri": "https://localhost:8080/",
          "height": 399,
          "referenced_widgets": [
            "32cbe440a61e4cbaa2f4c3382fea1131",
            "800f02fb915b4e84bcbefa7e444efa93",
            "60d5d5bed52a4e5c9d7e31a659fa944a",
            "a8e32505801d4883b88e6cedc1674bf1",
            "2ec4699d427b41eca86757d69ba1c25f",
            "23a99b58e11a45249c858b6446c2a6c4",
            "d8c3fb9795f14b47bb9afc53e3ac8512",
            "3ef60b863e3e432b87e53e11aa0d3e20",
            "bdc202dc4040431480796a2d06d2af7e",
            "9e9458154d76436e85dad0874187fbcc",
            "5143d1ca12c44d31b2833af4edc02616"
          ]
        },
        "id": "qMspSZDyLiRG",
        "outputId": "a566ad48-cf33-4482-adbf-48e37a6390a5"
      },
      "outputs": [],
      "source": [
        "tfm.load_from_checkpoint(repo_id=\"google/timesfm-1.0-200m\")"
      ]
    },
    {
      "cell_type": "code",
      "execution_count": null,
      "metadata": {
        "colab": {
          "base_uri": "https://localhost:8080/",
          "height": 521
        },
        "id": "l_D3y8PiarAT",
        "outputId": "9536b1ea-1d82-48fc-8fd4-6542be956763"
      },
      "outputs": [],
      "source": [
        "timesfm_forecast = tfm.forecast_on_df(\n",
        "   inputs=train_df,       # Input training data for training\n",
        "   freq=\"MS\",             # Frequency of the time-series data\n",
        "   value_name=\"y\",        # Name of the column containing the values to be forecasted\n",
        "   num_jobs=-1            # Set to -1 to use all available cores\n",
        ")\n",
        "timesfm_forecast.head()"
      ]
    },
    {
      "cell_type": "code",
      "execution_count": null,
      "metadata": {
        "colab": {
          "base_uri": "https://localhost:8080/",
          "height": 206
        },
        "id": "9Yjc1KAf8GXE",
        "outputId": "f5a42b25-c6fb-4724-ab61-dbf8518359e8"
      },
      "outputs": [],
      "source": [
        "timesfm_forecast = timesfm_forecast[[\"ds\",\"timesfm\"]]\n",
        "timesfm_forecast.head()"
      ]
    },
    {
      "cell_type": "code",
      "execution_count": 13,
      "metadata": {
        "id": "7sYe1sh5d4zy"
      },
      "outputs": [],
      "source": [
        "import numpy as np\n",
        "\n",
        "def mse(y_pred, y_true):\n",
        "    y_pred = np.array(y_pred)\n",
        "    y_true = np.array(y_true)\n",
        "    return np.mean(np.square(y_pred - y_true))\n",
        "\n",
        "def mae(y_pred, y_true):\n",
        "    y_pred = np.array(y_pred)\n",
        "    y_true = np.array(y_true)\n",
        "    return np.mean(np.abs(y_pred - y_true))\n",
        "\n",
        "def rmse(y_pred, y_true):\n",
        "    y_pred = np.array(y_pred)\n",
        "    y_true = np.array(y_true)\n",
        "    return np.sqrt(np.mean((y_true - y_pred) ** 2))"
      ]
    },
    {
      "cell_type": "code",
      "execution_count": null,
      "metadata": {
        "colab": {
          "base_uri": "https://localhost:8080/"
        },
        "id": "lwtmujOL9Rvs",
        "outputId": "b48d1736-662a-48a8-b224-953220287b88"
      },
      "outputs": [],
      "source": [
        "len(timesfm_forecast[\"timesfm\"]), len(test_df[\"y\"])"
      ]
    },
    {
      "cell_type": "code",
      "execution_count": null,
      "metadata": {
        "colab": {
          "base_uri": "https://localhost:8080/"
        },
        "id": "o3i3ybjf89tK",
        "outputId": "c1b67873-dcbc-4651-b444-82eec51485ee"
      },
      "outputs": [],
      "source": [
        "print(f\"Mean Absolute Error (MAE): {mae(timesfm_forecast[\"timesfm\"], test_df[\"y\"])}\")\n",
        "print(f\"Mean Squared Error (MSE): {mse(timesfm_forecast[\"timesfm\"], test_df[\"y\"])}\")\n",
        "print(f\"Root Mean Squared Error (RMSE): {rmse(timesfm_forecast[\"timesfm\"], test_df[\"y\"])}\")"
      ]
    },
    {
      "cell_type": "code",
      "execution_count": null,
      "metadata": {
        "colab": {
          "base_uri": "https://localhost:8080/",
          "height": 406
        },
        "id": "bgK8hdoCd42x",
        "outputId": "f2acdd6e-22d9-4381-e0d3-4d577aa3321a"
      },
      "outputs": [],
      "source": [
        "import matplotlib.pyplot as plt\n",
        "plt.figure(figsize=(9, 5))\n",
        "plt.plot(df[\"ds\"], df[\"y\"], label=\"Actual\")\n",
        "plt.plot(timesfm_forecast[\"ds\"], timesfm_forecast[\"timesfm\"], label=\"Predicted\")\n",
        "plt.ylabel(\"Electric Production\")\n",
        "plt.xlabel(\"Date\")\n",
        "plt.legend()\n",
        "plt.show()"
      ]
    },
    {
      "cell_type": "markdown",
      "metadata": {
        "id": "zR0pjdCngRbE"
      },
      "source": [
        "# Covariates\n",
        "\n",
        "Let\"s take a toy example of forecasting sales for a grocery store:\n",
        "\n",
        "**Task:** Given the observed the daily sales of this week (7 days), forecast the daily sales of next week (7 days).\n",
        "\n",
        "```\n",
        "Product: ice cream\n",
        "Daily_sales: [30, 30, 4, 5, 7, 8, 10]\n",
        "Category: food\n",
        "Base_price: 1.99\n",
        "Weekday: [0, 1, 2, 3, 4, 5, 6, 0, 1, 2, 3, 4, 5, 6]\n",
        "Has_promotion: [Yes, Yes, No, No, No, Yes, Yes, No, No, No, No, No, No, No]\n",
        "Daily_temperature: [31.0, 24.3, 19.4, 26.2, 24.6, 30.0, 31.1, 32.4, 30.9, 26.0, 25.0, 27.8, 29.5, 31.2]\n",
        "```\n",
        "\n",
        "```\n",
        "Product: sunscreen\n",
        "Daily_sales: [5, 7, 12, 13, 5, 6, 10]\n",
        "Category: skin product\n",
        "Base_price: 29.99\n",
        "Weekday: [0, 1, 2, 3, 4, 5, 6, 0, 1, 2, 3, 4, 5, 6]\n",
        "Has_promotion: [No, No, Yes, Yes, No, No, No, Yes, Yes, Yes, Yes, Yes, Yes, Yes]\n",
        "Daily_temperature: [31.0, 24.3, 19.4, 26.2, 24.6, 30.0, 31.1, 32.4, 30.9, 26.0, 25.0, 27.8, 29.5, 31.2]\n",
        "```\n",
        "\n",
        "In this example, besides the `Daily_sales`, we also have covariates `Category`, `Base_price`, `Weekday`, `Has_promotion`, `Daily_temperature`. Let\"s introduce some concepts:\n",
        "\n",
        "**Static covariates** are covariates for each time series.\n",
        "- In our example, `Category` is a **static categorical covariate**,\n",
        "- `Base_price` is a **static numerical covariates**.\n",
        "\n",
        "**Dynamic covariates** are covaraites for each time stamps.\n",
        "- Date / time related features can be usually treated as dynamic covariates.\n",
        "- In our example, `Weekday` and `Has_promotion` are **dynamic categorical covariates**.\n",
        "- `Daily_temperate` is a **dynamic numerical covariate**.\n",
        "\n",
        "**Notice:** Here we make it mandatory that the dynamic covariates need to cover both the forecasting context and horizon. For example, all dynamic covariates in the example have 14 values: the first 7 correspond to the observed 7 days, and the last 7 correspond to the next 7 days."
      ]
    },
    {
      "cell_type": "code",
      "execution_count": null,
      "metadata": {
        "colab": {
          "base_uri": "https://localhost:8080/",
          "height": 206
        },
        "id": "3VL1o6fh_fqW",
        "outputId": "bc35e078-a1c9-4d74-9b01-767a85a7c5ef"
      },
      "outputs": [],
      "source": [
        "df[\"month\"] = df[\"ds\"].dt.strftime(\"%B\")\n",
        "df.head()"
      ]
    },
    {
      "cell_type": "code",
      "execution_count": null,
      "metadata": {
        "colab": {
          "base_uri": "https://localhost:8080/"
        },
        "id": "RXQMDP2sM8FB",
        "outputId": "9b88bc67-8f18-43b2-da28-dd10fbac295c"
      },
      "outputs": [],
      "source": [
        "forecast_input = [df[\"y\"][:-24]]\n",
        "len(df[\"y\"])"
      ]
    },
    {
      "cell_type": "code",
      "execution_count": null,
      "metadata": {
        "colab": {
          "base_uri": "https://localhost:8080/"
        },
        "id": "a8a9WJgzNJeP",
        "outputId": "0dfee22e-ef18-435e-e450-20fec17477b3"
      },
      "outputs": [],
      "source": [
        "dynamic_categorical_covariates = {\"month\": [df[\"month\"]]}\n",
        "len(df[\"month\"])"
      ]
    },
    {
      "cell_type": "code",
      "execution_count": 20,
      "metadata": {
        "id": "UroX0riHM4yE"
      },
      "outputs": [],
      "source": [
        "# Call the forecast_with_covariates function\n",
        "test_forecast, _ = tfm.forecast_with_covariates(\n",
        "    forecast_input,\n",
        "    dynamic_categorical_covariates=dynamic_categorical_covariates,\n",
        "    xreg_mode=\"xreg + timesfm\",\n",
        "    ridge=0.0,\n",
        "    force_on_cpu=False,\n",
        "    normalize_xreg_target_per_input=True\n",
        ")\n",
        "test_forecast = np.array(test_forecast)"
      ]
    },
    {
      "cell_type": "code",
      "execution_count": null,
      "metadata": {
        "colab": {
          "base_uri": "https://localhost:8080/"
        },
        "id": "V_gf1adZM41a",
        "outputId": "68ff87d2-ac4f-418e-cfbc-5f8e2ff02813"
      },
      "outputs": [],
      "source": [
        "print(f\"Mean Absolute Error (MAE): {mae(test_forecast, test_df[\"y\"])}\")\n",
        "print(f\"Mean Squared Error (MSE): {mse(test_forecast, test_df[\"y\"])}\")\n",
        "print(f\"Root Mean Squared Error (RMSE): {rmse(test_forecast, test_df[\"y\"])}\")"
      ]
    },
    {
      "cell_type": "code",
      "execution_count": 22,
      "metadata": {
        "id": "5_aRpelKgCnb"
      },
      "outputs": [],
      "source": [
        "forecast_input = [np.sin(np.linspace(0, 20, 512)), np.cos(np.linspace(0, 20, 512))]\n",
        "dynamic_numerical_covariates = {\"temperature\": [np.random.rand(536), np.random.rand(536)]}\n",
        "dynamic_categorical_covariates = {\"weekday\": [np.random.randint(0, 7, 536), np.random.randint(0, 7, 536)]}\n",
        "static_numerical_covariates = {\"base_price\": [10.5, 15.0]}\n",
        "static_categorical_covariates = {\"category\": [\"food\", \"beverage\"]}"
      ]
    },
    {
      "cell_type": "code",
      "execution_count": null,
      "metadata": {
        "colab": {
          "base_uri": "https://localhost:8080/"
        },
        "id": "D01B0Q6SM47D",
        "outputId": "4149b5cf-bc47-4845-9bfa-d59dd4cc05a9"
      },
      "outputs": [],
      "source": [
        "test_forecast, _ = tfm.forecast_with_covariates(\n",
        "    forecast_input,\n",
        "    dynamic_numerical_covariates=dynamic_numerical_covariates,\n",
        "    dynamic_categorical_covariates=dynamic_categorical_covariates,\n",
        "    static_numerical_covariates=static_numerical_covariates,\n",
        "    static_categorical_covariates=static_categorical_covariates,\n",
        "    freq=[0, 0],\n",
        "    xreg_mode=\"xreg + timesfm\",\n",
        "    ridge=0.0,\n",
        "    force_on_cpu=False,\n",
        "    normalize_xreg_target_per_input=True\n",
        ")\n",
        "\n",
        "test_forecast = np.array(test_forecast)\n",
        "\n",
        "print(\"Test forecast shape:\", test_forecast.shape)\n",
        "print(\"First batch test forecast first 5 values:\", test_forecast[0][:5])\n",
        "print(\"Second batch test forecast first 5 values:\", test_forecast[1][:5])"
      ]
    }
  ],
  "metadata": {
    "colab": {
      "provenance": []
    },
    "kernelspec": {
      "display_name": "cuda-gpt",
      "language": "python",
      "name": "cuda"
    },
    "language_info": {
      "codemirror_mode": {
        "name": "ipython",
        "version": 3
      },
      "file_extension": ".py",
      "mimetype": "text/x-python",
      "name": "python",
      "nbconvert_exporter": "python",
      "pygments_lexer": "ipython3",
      "version": "3.10.14"
    },
    "widgets": {
      "application/vnd.jupyter.widget-state+json": {
        "23a99b58e11a45249c858b6446c2a6c4": {
          "model_module": "@jupyter-widgets/base",
          "model_module_version": "1.2.0",
          "model_name": "LayoutModel",
          "state": {
            "_model_module": "@jupyter-widgets/base",
            "_model_module_version": "1.2.0",
            "_model_name": "LayoutModel",
            "_view_count": null,
            "_view_module": "@jupyter-widgets/base",
            "_view_module_version": "1.2.0",
            "_view_name": "LayoutView",
            "align_content": null,
            "align_items": null,
            "align_self": null,
            "border": null,
            "bottom": null,
            "display": null,
            "flex": null,
            "flex_flow": null,
            "grid_area": null,
            "grid_auto_columns": null,
            "grid_auto_flow": null,
            "grid_auto_rows": null,
            "grid_column": null,
            "grid_gap": null,
            "grid_row": null,
            "grid_template_areas": null,
            "grid_template_columns": null,
            "grid_template_rows": null,
            "height": null,
            "justify_content": null,
            "justify_items": null,
            "left": null,
            "margin": null,
            "max_height": null,
            "max_width": null,
            "min_height": null,
            "min_width": null,
            "object_fit": null,
            "object_position": null,
            "order": null,
            "overflow": null,
            "overflow_x": null,
            "overflow_y": null,
            "padding": null,
            "right": null,
            "top": null,
            "visibility": null,
            "width": null
          }
        },
        "2ec4699d427b41eca86757d69ba1c25f": {
          "model_module": "@jupyter-widgets/base",
          "model_module_version": "1.2.0",
          "model_name": "LayoutModel",
          "state": {
            "_model_module": "@jupyter-widgets/base",
            "_model_module_version": "1.2.0",
            "_model_name": "LayoutModel",
            "_view_count": null,
            "_view_module": "@jupyter-widgets/base",
            "_view_module_version": "1.2.0",
            "_view_name": "LayoutView",
            "align_content": null,
            "align_items": null,
            "align_self": null,
            "border": null,
            "bottom": null,
            "display": null,
            "flex": null,
            "flex_flow": null,
            "grid_area": null,
            "grid_auto_columns": null,
            "grid_auto_flow": null,
            "grid_auto_rows": null,
            "grid_column": null,
            "grid_gap": null,
            "grid_row": null,
            "grid_template_areas": null,
            "grid_template_columns": null,
            "grid_template_rows": null,
            "height": null,
            "justify_content": null,
            "justify_items": null,
            "left": null,
            "margin": null,
            "max_height": null,
            "max_width": null,
            "min_height": null,
            "min_width": null,
            "object_fit": null,
            "object_position": null,
            "order": null,
            "overflow": null,
            "overflow_x": null,
            "overflow_y": null,
            "padding": null,
            "right": null,
            "top": null,
            "visibility": null,
            "width": null
          }
        },
        "32cbe440a61e4cbaa2f4c3382fea1131": {
          "model_module": "@jupyter-widgets/controls",
          "model_module_version": "1.5.0",
          "model_name": "HBoxModel",
          "state": {
            "_dom_classes": [],
            "_model_module": "@jupyter-widgets/controls",
            "_model_module_version": "1.5.0",
            "_model_name": "HBoxModel",
            "_view_count": null,
            "_view_module": "@jupyter-widgets/controls",
            "_view_module_version": "1.5.0",
            "_view_name": "HBoxView",
            "box_style": "",
            "children": [
              "IPY_MODEL_800f02fb915b4e84bcbefa7e444efa93",
              "IPY_MODEL_60d5d5bed52a4e5c9d7e31a659fa944a",
              "IPY_MODEL_a8e32505801d4883b88e6cedc1674bf1"
            ],
            "layout": "IPY_MODEL_2ec4699d427b41eca86757d69ba1c25f"
          }
        },
        "3ef60b863e3e432b87e53e11aa0d3e20": {
          "model_module": "@jupyter-widgets/base",
          "model_module_version": "1.2.0",
          "model_name": "LayoutModel",
          "state": {
            "_model_module": "@jupyter-widgets/base",
            "_model_module_version": "1.2.0",
            "_model_name": "LayoutModel",
            "_view_count": null,
            "_view_module": "@jupyter-widgets/base",
            "_view_module_version": "1.2.0",
            "_view_name": "LayoutView",
            "align_content": null,
            "align_items": null,
            "align_self": null,
            "border": null,
            "bottom": null,
            "display": null,
            "flex": null,
            "flex_flow": null,
            "grid_area": null,
            "grid_auto_columns": null,
            "grid_auto_flow": null,
            "grid_auto_rows": null,
            "grid_column": null,
            "grid_gap": null,
            "grid_row": null,
            "grid_template_areas": null,
            "grid_template_columns": null,
            "grid_template_rows": null,
            "height": null,
            "justify_content": null,
            "justify_items": null,
            "left": null,
            "margin": null,
            "max_height": null,
            "max_width": null,
            "min_height": null,
            "min_width": null,
            "object_fit": null,
            "object_position": null,
            "order": null,
            "overflow": null,
            "overflow_x": null,
            "overflow_y": null,
            "padding": null,
            "right": null,
            "top": null,
            "visibility": null,
            "width": null
          }
        },
        "5143d1ca12c44d31b2833af4edc02616": {
          "model_module": "@jupyter-widgets/controls",
          "model_module_version": "1.5.0",
          "model_name": "DescriptionStyleModel",
          "state": {
            "_model_module": "@jupyter-widgets/controls",
            "_model_module_version": "1.5.0",
            "_model_name": "DescriptionStyleModel",
            "_view_count": null,
            "_view_module": "@jupyter-widgets/base",
            "_view_module_version": "1.2.0",
            "_view_name": "StyleView",
            "description_width": ""
          }
        },
        "60d5d5bed52a4e5c9d7e31a659fa944a": {
          "model_module": "@jupyter-widgets/controls",
          "model_module_version": "1.5.0",
          "model_name": "FloatProgressModel",
          "state": {
            "_dom_classes": [],
            "_model_module": "@jupyter-widgets/controls",
            "_model_module_version": "1.5.0",
            "_model_name": "FloatProgressModel",
            "_view_count": null,
            "_view_module": "@jupyter-widgets/controls",
            "_view_module_version": "1.5.0",
            "_view_name": "ProgressView",
            "bar_style": "success",
            "description": "",
            "description_tooltip": null,
            "layout": "IPY_MODEL_3ef60b863e3e432b87e53e11aa0d3e20",
            "max": 5,
            "min": 0,
            "orientation": "horizontal",
            "style": "IPY_MODEL_bdc202dc4040431480796a2d06d2af7e",
            "value": 5
          }
        },
        "800f02fb915b4e84bcbefa7e444efa93": {
          "model_module": "@jupyter-widgets/controls",
          "model_module_version": "1.5.0",
          "model_name": "HTMLModel",
          "state": {
            "_dom_classes": [],
            "_model_module": "@jupyter-widgets/controls",
            "_model_module_version": "1.5.0",
            "_model_name": "HTMLModel",
            "_view_count": null,
            "_view_module": "@jupyter-widgets/controls",
            "_view_module_version": "1.5.0",
            "_view_name": "HTMLView",
            "description": "",
            "description_tooltip": null,
            "layout": "IPY_MODEL_23a99b58e11a45249c858b6446c2a6c4",
            "placeholder": "​",
            "style": "IPY_MODEL_d8c3fb9795f14b47bb9afc53e3ac8512",
            "value": "Fetching 5 files: 100%"
          }
        },
        "9e9458154d76436e85dad0874187fbcc": {
          "model_module": "@jupyter-widgets/base",
          "model_module_version": "1.2.0",
          "model_name": "LayoutModel",
          "state": {
            "_model_module": "@jupyter-widgets/base",
            "_model_module_version": "1.2.0",
            "_model_name": "LayoutModel",
            "_view_count": null,
            "_view_module": "@jupyter-widgets/base",
            "_view_module_version": "1.2.0",
            "_view_name": "LayoutView",
            "align_content": null,
            "align_items": null,
            "align_self": null,
            "border": null,
            "bottom": null,
            "display": null,
            "flex": null,
            "flex_flow": null,
            "grid_area": null,
            "grid_auto_columns": null,
            "grid_auto_flow": null,
            "grid_auto_rows": null,
            "grid_column": null,
            "grid_gap": null,
            "grid_row": null,
            "grid_template_areas": null,
            "grid_template_columns": null,
            "grid_template_rows": null,
            "height": null,
            "justify_content": null,
            "justify_items": null,
            "left": null,
            "margin": null,
            "max_height": null,
            "max_width": null,
            "min_height": null,
            "min_width": null,
            "object_fit": null,
            "object_position": null,
            "order": null,
            "overflow": null,
            "overflow_x": null,
            "overflow_y": null,
            "padding": null,
            "right": null,
            "top": null,
            "visibility": null,
            "width": null
          }
        },
        "a8e32505801d4883b88e6cedc1674bf1": {
          "model_module": "@jupyter-widgets/controls",
          "model_module_version": "1.5.0",
          "model_name": "HTMLModel",
          "state": {
            "_dom_classes": [],
            "_model_module": "@jupyter-widgets/controls",
            "_model_module_version": "1.5.0",
            "_model_name": "HTMLModel",
            "_view_count": null,
            "_view_module": "@jupyter-widgets/controls",
            "_view_module_version": "1.5.0",
            "_view_name": "HTMLView",
            "description": "",
            "description_tooltip": null,
            "layout": "IPY_MODEL_9e9458154d76436e85dad0874187fbcc",
            "placeholder": "​",
            "style": "IPY_MODEL_5143d1ca12c44d31b2833af4edc02616",
            "value": " 5/5 [00:00&lt;00:00, 80.50it/s]"
          }
        },
        "bdc202dc4040431480796a2d06d2af7e": {
          "model_module": "@jupyter-widgets/controls",
          "model_module_version": "1.5.0",
          "model_name": "ProgressStyleModel",
          "state": {
            "_model_module": "@jupyter-widgets/controls",
            "_model_module_version": "1.5.0",
            "_model_name": "ProgressStyleModel",
            "_view_count": null,
            "_view_module": "@jupyter-widgets/base",
            "_view_module_version": "1.2.0",
            "_view_name": "StyleView",
            "bar_color": null,
            "description_width": ""
          }
        },
        "d8c3fb9795f14b47bb9afc53e3ac8512": {
          "model_module": "@jupyter-widgets/controls",
          "model_module_version": "1.5.0",
          "model_name": "DescriptionStyleModel",
          "state": {
            "_model_module": "@jupyter-widgets/controls",
            "_model_module_version": "1.5.0",
            "_model_name": "DescriptionStyleModel",
            "_view_count": null,
            "_view_module": "@jupyter-widgets/base",
            "_view_module_version": "1.2.0",
            "_view_name": "StyleView",
            "description_width": ""
          }
        }
      }
    }
  },
  "nbformat": 4,
  "nbformat_minor": 0
}
