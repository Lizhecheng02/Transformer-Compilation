{
 "cells": [
  {
   "cell_type": "code",
   "execution_count": 1,
   "metadata": {
    "collapsed": true,
    "ExecuteTime": {
     "start_time": "2023-04-07T20:57:03.452781Z",
     "end_time": "2023-04-07T20:57:05.619359Z"
    }
   },
   "outputs": [],
   "source": [
    "import torch\n",
    "from torch import nn"
   ]
  },
  {
   "cell_type": "code",
   "execution_count": 2,
   "outputs": [
    {
     "data": {
      "text/plain": "torch.Size([2, 1, 3])"
     },
     "execution_count": 2,
     "metadata": {},
     "output_type": "execute_result"
    }
   ],
   "source": [
    "inputs = torch.Tensor([[[0.2, 0.1, 0.3], [0.5, 0.1, 0.1]]])\n",
    "B, S, E = inputs.size()\n",
    "inputs = inputs.reshape(S, B, E)\n",
    "inputs.size()"
   ],
   "metadata": {
    "collapsed": false,
    "ExecuteTime": {
     "start_time": "2023-04-07T20:57:05.623351Z",
     "end_time": "2023-04-07T20:57:05.633785Z"
    }
   }
  },
  {
   "cell_type": "code",
   "execution_count": 3,
   "outputs": [],
   "source": [
    "parameter_shape = inputs.size()[-2:]\n",
    "gamma = nn.Parameter(torch.ones(parameter_shape))\n",
    "beta = nn.Parameter(torch.zeros(parameter_shape))"
   ],
   "metadata": {
    "collapsed": false,
    "ExecuteTime": {
     "start_time": "2023-04-07T20:57:05.636809Z",
     "end_time": "2023-04-07T20:57:05.678441Z"
    }
   }
  },
  {
   "cell_type": "code",
   "execution_count": 4,
   "outputs": [
    {
     "data": {
      "text/plain": "(torch.Size([1, 3]), torch.Size([1, 3]))"
     },
     "execution_count": 4,
     "metadata": {},
     "output_type": "execute_result"
    }
   ],
   "source": [
    "gamma.size(), beta.size()"
   ],
   "metadata": {
    "collapsed": false,
    "ExecuteTime": {
     "start_time": "2023-04-07T20:57:05.651244Z",
     "end_time": "2023-04-07T20:57:05.678441Z"
    }
   }
  },
  {
   "cell_type": "code",
   "execution_count": 5,
   "outputs": [
    {
     "data": {
      "text/plain": "[-1, -2]"
     },
     "execution_count": 5,
     "metadata": {},
     "output_type": "execute_result"
    }
   ],
   "source": [
    "dims = [-(i + 1) for i in range(len(parameter_shape))]\n",
    "dims"
   ],
   "metadata": {
    "collapsed": false,
    "ExecuteTime": {
     "start_time": "2023-04-07T20:57:05.669894Z",
     "end_time": "2023-04-07T20:57:05.693675Z"
    }
   }
  },
  {
   "cell_type": "code",
   "execution_count": 6,
   "outputs": [
    {
     "data": {
      "text/plain": "torch.Size([2, 1, 1])"
     },
     "execution_count": 6,
     "metadata": {},
     "output_type": "execute_result"
    }
   ],
   "source": [
    "mean = inputs.mean(dim=dims, keepdim=True)\n",
    "mean.size()"
   ],
   "metadata": {
    "collapsed": false,
    "ExecuteTime": {
     "start_time": "2023-04-07T20:57:05.681472Z",
     "end_time": "2023-04-07T20:57:05.697629Z"
    }
   }
  },
  {
   "cell_type": "code",
   "execution_count": 7,
   "outputs": [
    {
     "data": {
      "text/plain": "tensor([[[0.2000]],\n\n        [[0.2333]]])"
     },
     "execution_count": 7,
     "metadata": {},
     "output_type": "execute_result"
    }
   ],
   "source": [
    "mean"
   ],
   "metadata": {
    "collapsed": false,
    "ExecuteTime": {
     "start_time": "2023-04-07T20:57:05.697629Z",
     "end_time": "2023-04-07T20:57:05.756657Z"
    }
   }
  },
  {
   "cell_type": "code",
   "execution_count": 8,
   "outputs": [
    {
     "data": {
      "text/plain": "tensor([[[0.0817]],\n\n        [[0.1886]]])"
     },
     "execution_count": 8,
     "metadata": {},
     "output_type": "execute_result"
    }
   ],
   "source": [
    "var = ((inputs - mean) ** 2).mean(dim=dims, keepdim=True)\n",
    "epsilon = 1e-5\n",
    "std = (var + epsilon).sqrt()\n",
    "std"
   ],
   "metadata": {
    "collapsed": false,
    "ExecuteTime": {
     "start_time": "2023-04-07T20:57:05.714121Z",
     "end_time": "2023-04-07T20:57:05.772619Z"
    }
   }
  },
  {
   "cell_type": "code",
   "execution_count": 9,
   "outputs": [
    {
     "data": {
      "text/plain": "tensor([[[ 0.0000, -1.2238,  1.2238]],\n\n        [[ 1.4140, -0.7070, -0.7070]]])"
     },
     "execution_count": 9,
     "metadata": {},
     "output_type": "execute_result"
    }
   ],
   "source": [
    "y = (inputs - mean) / std\n",
    "y"
   ],
   "metadata": {
    "collapsed": false,
    "ExecuteTime": {
     "start_time": "2023-04-07T20:57:05.729136Z",
     "end_time": "2023-04-07T20:57:05.772619Z"
    }
   }
  },
  {
   "cell_type": "code",
   "execution_count": 10,
   "outputs": [
    {
     "data": {
      "text/plain": "tensor([[[ 0.0000, -1.2238,  1.2238]],\n\n        [[ 1.4140, -0.7070, -0.7070]]], grad_fn=<AddBackward0>)"
     },
     "execution_count": 10,
     "metadata": {},
     "output_type": "execute_result"
    }
   ],
   "source": [
    "out = gamma * y + beta\n",
    "out"
   ],
   "metadata": {
    "collapsed": false,
    "ExecuteTime": {
     "start_time": "2023-04-07T20:57:05.744587Z",
     "end_time": "2023-04-07T20:57:05.772619Z"
    }
   }
  },
  {
   "cell_type": "code",
   "execution_count": 11,
   "outputs": [],
   "source": [
    "class LayerNormalization():\n",
    "    def __init__(self, parameters_shape, eps=1e-5):\n",
    "        self.parameters_shape = parameters_shape\n",
    "        self.eps = eps\n",
    "        self.gamma = nn.Parameter(torch.ones(parameters_shape))\n",
    "        self.beta = nn.Parameter(torch.zeros(parameters_shape))\n",
    "\n",
    "    def forward(self, input):\n",
    "        dims = [-(i + 1) for i in range(len(self.parameters_shape))]\n",
    "        mean = inputs.mean(dim=dims, keepdim=True)\n",
    "        print(f'Mean \\n ({mean.size()}): \\n {mean}')\n",
    "        var = ((inputs - mean) ** 2).mean(dim=dims, keepdim=True)\n",
    "        std = (var + self.eps).sqrt()\n",
    "        print(f'Standard Deviation \\n ({std.size()}): \\n {std}')\n",
    "        y = (inputs - mean) / std\n",
    "        print(f'y \\n ({y.size()}) = \\n {y}')\n",
    "        out = self.gamma * y + self.beta\n",
    "        print(f'out \\n ({out.size()}) = \\n {out}')\n",
    "        return out"
   ],
   "metadata": {
    "collapsed": false,
    "ExecuteTime": {
     "start_time": "2023-04-07T20:57:05.759652Z",
     "end_time": "2023-04-07T20:57:05.782622Z"
    }
   }
  },
  {
   "cell_type": "code",
   "execution_count": 12,
   "outputs": [
    {
     "name": "stdout",
     "output_type": "stream",
     "text": [
      "input \n",
      " (torch.Size([5, 3, 8])) = \n",
      " tensor([[[ 8.0393e-01,  1.8093e+00, -3.5793e-01,  2.8944e-01,  1.4446e-01,\n",
      "          -7.0954e-01, -4.4128e-01,  9.3870e-01],\n",
      "         [-3.4135e-01,  1.0489e+00, -1.1933e+00,  3.1396e+00,  1.0701e+00,\n",
      "           9.7081e-01, -1.0244e+00,  2.1878e-02],\n",
      "         [ 6.2214e-01,  3.3450e-01,  1.6957e-03, -5.2464e-02, -2.0262e+00,\n",
      "           2.8799e-01, -8.9059e-01,  3.9550e-01]],\n",
      "\n",
      "        [[ 2.2467e-01, -2.2753e-01, -1.6972e-01,  1.8350e+00, -6.7885e-02,\n",
      "           2.9816e+00, -1.2675e+00,  1.7948e+00],\n",
      "         [-1.5649e-01,  4.7979e-01,  1.3002e+00, -5.8206e-01,  1.3290e+00,\n",
      "          -4.5023e-01, -1.3883e-01, -6.2965e-01],\n",
      "         [-1.3336e-01, -2.7789e-01, -7.0325e-01,  9.7761e-01, -3.2154e-01,\n",
      "           7.5650e-02, -3.9790e-01,  2.8715e-01]],\n",
      "\n",
      "        [[ 7.9584e-01,  1.9072e+00,  1.3734e+00, -2.7367e-01, -1.3535e+00,\n",
      "          -4.9655e-01, -1.7122e+00,  1.2417e+00],\n",
      "         [-1.0906e-01, -1.8074e-02, -8.0288e-01, -8.9429e-01,  9.2369e-02,\n",
      "          -2.2400e-02,  7.7254e-01,  6.4755e-01],\n",
      "         [ 8.2015e-01, -2.0106e+00,  1.8473e-01,  5.0466e-01,  8.1669e-01,\n",
      "          -1.5606e+00, -6.8304e-01, -1.1134e+00]],\n",
      "\n",
      "        [[-1.4116e-03, -1.9422e-01, -4.1824e-02, -3.8445e-01, -1.8735e+00,\n",
      "          -1.2962e-01, -1.2853e+00,  3.3869e-01],\n",
      "         [ 2.3822e-01, -8.0779e-01, -2.1382e+00, -9.0356e-02, -5.9012e-01,\n",
      "          -3.3970e-01,  1.7704e-01,  1.8840e+00],\n",
      "         [-2.3631e-01, -5.1039e-01, -6.4416e-01, -1.4147e-01, -7.4531e-01,\n",
      "          -4.8619e-02,  2.3087e-01, -1.5249e+00]],\n",
      "\n",
      "        [[ 8.3179e-01,  1.1848e+00, -5.6048e-01, -6.0228e-01, -3.6834e-01,\n",
      "          -1.4162e+00, -4.6664e-01, -7.2273e-01],\n",
      "         [-5.2750e-01,  1.0360e+00, -1.1744e+00,  2.0998e+00,  9.5527e-01,\n",
      "          -1.1658e+00,  2.7006e-01, -1.9177e-01],\n",
      "         [ 2.3929e+00, -8.4147e-01, -8.2272e-01,  3.3872e-01,  1.2588e+00,\n",
      "          -7.6048e-01,  1.8650e+00, -7.5842e-01]]])\n"
     ]
    }
   ],
   "source": [
    "batch_size = 3\n",
    "sentence_length = 5\n",
    "embedding_size = 8\n",
    "inputs = torch.randn(sentence_length, batch_size, embedding_size)\n",
    "\n",
    "print(f'input \\n ({inputs.size()}) = \\n {inputs}')"
   ],
   "metadata": {
    "collapsed": false,
    "ExecuteTime": {
     "start_time": "2023-04-07T20:57:05.776608Z",
     "end_time": "2023-04-07T20:57:05.834380Z"
    }
   }
  },
  {
   "cell_type": "code",
   "execution_count": 13,
   "outputs": [],
   "source": [
    "layer_norm = LayerNormalization(inputs.size()[-1:])"
   ],
   "metadata": {
    "collapsed": false,
    "ExecuteTime": {
     "start_time": "2023-04-07T20:57:05.790877Z",
     "end_time": "2023-04-07T20:57:05.864220Z"
    }
   }
  },
  {
   "cell_type": "code",
   "execution_count": 14,
   "outputs": [
    {
     "name": "stdout",
     "output_type": "stream",
     "text": [
      "Mean \n",
      " (torch.Size([5, 3, 1])): \n",
      " tensor([[[ 0.3096],\n",
      "         [ 0.4615],\n",
      "         [-0.1659]],\n",
      "\n",
      "        [[ 0.6379],\n",
      "         [ 0.1440],\n",
      "         [-0.0617]],\n",
      "\n",
      "        [[ 0.1853],\n",
      "         [-0.0418],\n",
      "         [-0.3802]],\n",
      "\n",
      "        [[-0.4465],\n",
      "         [-0.2084],\n",
      "         [-0.4525]],\n",
      "\n",
      "        [[-0.2650],\n",
      "         [ 0.1627],\n",
      "         [ 0.3341]]])\n",
      "Standard Deviation \n",
      " (torch.Size([5, 3, 1])): \n",
      " tensor([[[0.7878],\n",
      "         [1.3196],\n",
      "         [0.8231]],\n",
      "\n",
      "        [[1.3212],\n",
      "         [0.7503],\n",
      "         [0.4828]],\n",
      "\n",
      "        [[1.2505],\n",
      "         [0.5554],\n",
      "         [1.0402]],\n",
      "\n",
      "        [[0.6970],\n",
      "         [1.0599],\n",
      "         [0.5062]],\n",
      "\n",
      "        [[0.7978],\n",
      "         [1.0787],\n",
      "         [1.2525]]])\n",
      "y \n",
      " (torch.Size([5, 3, 8])) = \n",
      " tensor([[[ 0.6274,  1.9036, -0.8474, -0.0256, -0.2097, -1.2937, -0.9532,\n",
      "           0.7985],\n",
      "         [-0.6084,  0.4451, -1.2540,  2.0294,  0.4612,  0.3859, -1.1260,\n",
      "          -0.3332],\n",
      "         [ 0.9575,  0.6080,  0.2037,  0.1379, -2.2602,  0.5515, -0.8804,\n",
      "           0.6821]],\n",
      "\n",
      "        [[-0.3128, -0.6550, -0.6113,  0.9060, -0.5342,  1.7738, -1.4422,\n",
      "           0.8756],\n",
      "         [-0.4005,  0.4476,  1.5411, -0.9677,  1.5795, -0.7920, -0.3769,\n",
      "          -1.0311],\n",
      "         [-0.1484, -0.4478, -1.3288,  2.1526, -0.5382,  0.2845, -0.6964,\n",
      "           0.7225]],\n",
      "\n",
      "        [[ 0.4883,  1.3770,  0.9502, -0.3670, -1.2306, -0.5453, -1.5174,\n",
      "           0.8448],\n",
      "         [-0.1211,  0.0427, -1.3703, -1.5349,  0.2415,  0.0349,  1.4662,\n",
      "           1.2411],\n",
      "         [ 1.1539, -1.5674,  0.5431,  0.8506,  1.1506, -1.1348, -0.2911,\n",
      "          -0.7048]],\n",
      "\n",
      "        [[ 0.6385,  0.3619,  0.5805,  0.0890, -2.0475,  0.4546, -1.2035,\n",
      "           1.1265],\n",
      "         [ 0.4213, -0.5656, -1.8208,  0.1113, -0.3602, -0.1239,  0.3636,\n",
      "           1.9742],\n",
      "         [ 0.4272, -0.1143, -0.3786,  0.6146, -0.5784,  0.7980,  1.3502,\n",
      "          -2.1187]],\n",
      "\n",
      "        [[ 1.3747,  1.8172, -0.3703, -0.4227, -0.1295, -1.4429, -0.2527,\n",
      "          -0.5737],\n",
      "         [-0.6398,  0.8096, -1.2395,  1.7957,  0.7347, -1.2316,  0.0995,\n",
      "          -0.3286],\n",
      "         [ 1.6438, -0.9386, -0.9236,  0.0037,  0.7384, -0.8739,  1.2224,\n",
      "          -0.8722]]])\n",
      "out \n",
      " (torch.Size([5, 3, 8])) = \n",
      " tensor([[[ 0.6274,  1.9036, -0.8474, -0.0256, -0.2097, -1.2937, -0.9532,\n",
      "           0.7985],\n",
      "         [-0.6084,  0.4451, -1.2540,  2.0294,  0.4612,  0.3859, -1.1260,\n",
      "          -0.3332],\n",
      "         [ 0.9575,  0.6080,  0.2037,  0.1379, -2.2602,  0.5515, -0.8804,\n",
      "           0.6821]],\n",
      "\n",
      "        [[-0.3128, -0.6550, -0.6113,  0.9060, -0.5342,  1.7738, -1.4422,\n",
      "           0.8756],\n",
      "         [-0.4005,  0.4476,  1.5411, -0.9677,  1.5795, -0.7920, -0.3769,\n",
      "          -1.0311],\n",
      "         [-0.1484, -0.4478, -1.3288,  2.1526, -0.5382,  0.2845, -0.6964,\n",
      "           0.7225]],\n",
      "\n",
      "        [[ 0.4883,  1.3770,  0.9502, -0.3670, -1.2306, -0.5453, -1.5174,\n",
      "           0.8448],\n",
      "         [-0.1211,  0.0427, -1.3703, -1.5349,  0.2415,  0.0349,  1.4662,\n",
      "           1.2411],\n",
      "         [ 1.1539, -1.5674,  0.5431,  0.8506,  1.1506, -1.1348, -0.2911,\n",
      "          -0.7048]],\n",
      "\n",
      "        [[ 0.6385,  0.3619,  0.5805,  0.0890, -2.0475,  0.4546, -1.2035,\n",
      "           1.1265],\n",
      "         [ 0.4213, -0.5656, -1.8208,  0.1113, -0.3602, -0.1239,  0.3636,\n",
      "           1.9742],\n",
      "         [ 0.4272, -0.1143, -0.3786,  0.6146, -0.5784,  0.7980,  1.3502,\n",
      "          -2.1187]],\n",
      "\n",
      "        [[ 1.3747,  1.8172, -0.3703, -0.4227, -0.1295, -1.4429, -0.2527,\n",
      "          -0.5737],\n",
      "         [-0.6398,  0.8096, -1.2395,  1.7957,  0.7347, -1.2316,  0.0995,\n",
      "          -0.3286],\n",
      "         [ 1.6438, -0.9386, -0.9236,  0.0037,  0.7384, -0.8739,  1.2224,\n",
      "          -0.8722]]], grad_fn=<AddBackward0>)\n"
     ]
    }
   ],
   "source": [
    "out = layer_norm.forward(inputs)"
   ],
   "metadata": {
    "collapsed": false,
    "ExecuteTime": {
     "start_time": "2023-04-07T20:57:05.807496Z",
     "end_time": "2023-04-07T20:57:05.868543Z"
    }
   }
  },
  {
   "cell_type": "code",
   "execution_count": 15,
   "outputs": [
    {
     "data": {
      "text/plain": "(tensor(9.9341e-09, grad_fn=<MeanBackward0>),\n tensor(1.0215, grad_fn=<StdBackward0>))"
     },
     "execution_count": 15,
     "metadata": {},
     "output_type": "execute_result"
    }
   ],
   "source": [
    "out[0].mean(), out[0].std()"
   ],
   "metadata": {
    "collapsed": false,
    "ExecuteTime": {
     "start_time": "2023-04-07T20:57:05.822379Z",
     "end_time": "2023-04-07T20:57:05.868543Z"
    }
   }
  }
 ],
 "metadata": {
  "kernelspec": {
   "display_name": "Python 3",
   "language": "python",
   "name": "python3"
  },
  "language_info": {
   "codemirror_mode": {
    "name": "ipython",
    "version": 2
   },
   "file_extension": ".py",
   "mimetype": "text/x-python",
   "name": "python",
   "nbconvert_exporter": "python",
   "pygments_lexer": "ipython2",
   "version": "2.7.6"
  }
 },
 "nbformat": 4,
 "nbformat_minor": 0
}
