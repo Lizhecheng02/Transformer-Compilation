{
 "cells": [
  {
   "cell_type": "code",
   "execution_count": 1,
   "metadata": {
    "collapsed": true,
    "ExecuteTime": {
     "start_time": "2023-04-07T19:01:13.426647Z",
     "end_time": "2023-04-07T19:01:13.499202Z"
    }
   },
   "outputs": [],
   "source": [
    "import numpy as np\n",
    "import math"
   ]
  },
  {
   "cell_type": "code",
   "execution_count": 2,
   "outputs": [],
   "source": [
    "L, d_k, d_v = 4, 8, 8\n",
    "q = np.random.randn(L, d_k)\n",
    "k = np.random.randn(L, d_k)\n",
    "v = np.random.randn(L, d_v)"
   ],
   "metadata": {
    "collapsed": false,
    "ExecuteTime": {
     "start_time": "2023-04-07T19:01:14.066278Z",
     "end_time": "2023-04-07T19:01:14.080534Z"
    }
   }
  },
  {
   "cell_type": "code",
   "execution_count": 3,
   "outputs": [
    {
     "name": "stdout",
     "output_type": "stream",
     "text": [
      "Q\n",
      " [[-1.80431154 -0.37368754  0.18010639 -0.41175358 -0.30394883  0.44828695\n",
      "   1.53403912 -1.24055926]\n",
      " [ 0.03852399 -0.12737531  0.73924372  0.12165477  1.73989877  0.89172102\n",
      "   1.55223778  1.55887451]\n",
      " [ 0.54602632 -1.64355645 -0.78197596  0.90004299 -0.49636728  0.22885404\n",
      "  -0.13821963  0.59972321]\n",
      " [-0.22494579  0.09870965  0.54050982  0.01470106  0.90192531 -0.14246449\n",
      "   0.83499709  0.11098957]]\n",
      "K\n",
      " [[-0.48213113  1.47288856 -1.8496946  -2.25106863 -1.35438539  0.93500355\n",
      "  -0.11675162  0.97428812]\n",
      " [ 0.72348294 -0.19864244 -1.58457345  1.51892988  0.3553269  -0.81143822\n",
      "  -0.61858356  0.53543886]\n",
      " [ 0.99838551 -0.54932221  2.27421914  1.85088532  0.28980389  1.20969071\n",
      "  -0.89098249 -1.06620449]\n",
      " [-0.61397051 -0.33762844 -0.41239007  0.32558912  0.39238482 -0.3161828\n",
      "  -0.88655283  0.22469547]]\n",
      "V\n",
      " [[ 0.10021491 -0.32656936 -0.29499322  1.69677639  0.18486615  0.60787452\n",
      "   0.13903236 -0.80996387]\n",
      " [-0.21982156  0.18985089  3.26693063 -0.2989055  -0.84915124 -2.368887\n",
      "   0.08583361 -0.97620998]\n",
      " [ 1.14761907 -2.15734962  0.11585952  0.28983326  0.02121723 -1.20285114\n",
      "   0.23202891  0.33944009]\n",
      " [-1.84374977  1.18432453 -1.11168081 -0.02222925  1.44709633  0.68384095\n",
      "  -0.0548812  -0.02006045]]\n"
     ]
    }
   ],
   "source": [
    "print('Q\\n', q)\n",
    "print('K\\n', k)\n",
    "print('V\\n', v)"
   ],
   "metadata": {
    "collapsed": false,
    "ExecuteTime": {
     "start_time": "2023-04-07T19:01:14.587973Z",
     "end_time": "2023-04-07T19:01:14.619000Z"
    }
   }
  },
  {
   "cell_type": "markdown",
   "source": [
    "## Self Attention"
   ],
   "metadata": {
    "collapsed": false
   }
  },
  {
   "cell_type": "code",
   "execution_count": 4,
   "outputs": [
    {
     "data": {
      "text/plain": "array([[ 0.35630847, -4.2269084 , -1.53854002, -0.87413524],\n       [-2.03257612, -1.16427776,  0.5526435 , -0.87100011],\n       [-1.77698109,  3.37226327,  0.9521956 ,  0.82535806],\n       [-2.12314023, -1.03750789,  0.20437988, -0.42971504]])"
     },
     "execution_count": 4,
     "metadata": {},
     "output_type": "execute_result"
    }
   ],
   "source": [
    "np.matmul(q, k.T)"
   ],
   "metadata": {
    "collapsed": false,
    "ExecuteTime": {
     "start_time": "2023-04-07T19:01:15.999268Z",
     "end_time": "2023-04-07T19:01:16.027345Z"
    }
   }
  },
  {
   "cell_type": "code",
   "execution_count": 5,
   "outputs": [
    {
     "data": {
      "text/plain": "(0.7166690029479453, 1.144581532816517, 2.724213784644609)"
     },
     "execution_count": 5,
     "metadata": {},
     "output_type": "execute_result"
    }
   ],
   "source": [
    "q.var(), k.var(), np.matmul(q, k.T).var()"
   ],
   "metadata": {
    "collapsed": false,
    "ExecuteTime": {
     "start_time": "2023-04-07T19:01:16.783067Z",
     "end_time": "2023-04-07T19:01:16.820449Z"
    }
   }
  },
  {
   "cell_type": "code",
   "execution_count": 6,
   "outputs": [
    {
     "data": {
      "text/plain": "(0.7166690029479453, 1.144581532816517, 0.34052672308057613)"
     },
     "execution_count": 6,
     "metadata": {},
     "output_type": "execute_result"
    }
   ],
   "source": [
    "scaled = np.matmul(q, k.T) / math.sqrt(d_k)\n",
    "q.var(), k.var(), scaled.var()"
   ],
   "metadata": {
    "collapsed": false,
    "ExecuteTime": {
     "start_time": "2023-04-07T19:01:17.387952Z",
     "end_time": "2023-04-07T19:01:17.428293Z"
    }
   }
  },
  {
   "cell_type": "code",
   "execution_count": 7,
   "outputs": [
    {
     "data": {
      "text/plain": "array([[ 0.12597407, -1.4944378 , -0.54395604, -0.30905348],\n       [-0.71862418, -0.41163435,  0.19538898, -0.30794504],\n       [-0.62825769,  1.19227511,  0.33665198,  0.29180814],\n       [-0.75064343, -0.36681443,  0.0722592 , -0.15192721]])"
     },
     "execution_count": 7,
     "metadata": {},
     "output_type": "execute_result"
    }
   ],
   "source": [
    "scaled"
   ],
   "metadata": {
    "collapsed": false,
    "ExecuteTime": {
     "start_time": "2023-04-07T19:01:18.150043Z",
     "end_time": "2023-04-07T19:01:18.166001Z"
    }
   }
  },
  {
   "cell_type": "markdown",
   "source": [
    "## Masking"
   ],
   "metadata": {
    "collapsed": false
   }
  },
  {
   "cell_type": "code",
   "execution_count": 8,
   "outputs": [
    {
     "data": {
      "text/plain": "array([[1., 0., 0., 0.],\n       [1., 1., 0., 0.],\n       [1., 1., 1., 0.],\n       [1., 1., 1., 1.]])"
     },
     "execution_count": 8,
     "metadata": {},
     "output_type": "execute_result"
    }
   ],
   "source": [
    "mask = np.tril(np.ones((L, L)))\n",
    "mask"
   ],
   "metadata": {
    "collapsed": false,
    "ExecuteTime": {
     "start_time": "2023-04-07T19:01:20.232511Z",
     "end_time": "2023-04-07T19:01:20.246735Z"
    }
   }
  },
  {
   "cell_type": "code",
   "execution_count": 9,
   "outputs": [
    {
     "data": {
      "text/plain": "array([[  0., -inf, -inf, -inf],\n       [  0.,   0., -inf, -inf],\n       [  0.,   0.,   0., -inf],\n       [  0.,   0.,   0.,   0.]])"
     },
     "execution_count": 9,
     "metadata": {},
     "output_type": "execute_result"
    }
   ],
   "source": [
    "mask[mask == 0] = -np.infty\n",
    "mask[mask == 1] = 0\n",
    "mask"
   ],
   "metadata": {
    "collapsed": false,
    "ExecuteTime": {
     "start_time": "2023-04-07T19:01:20.990068Z",
     "end_time": "2023-04-07T19:01:21.026988Z"
    }
   }
  },
  {
   "cell_type": "code",
   "execution_count": 10,
   "outputs": [
    {
     "data": {
      "text/plain": "array([[ 0.12597407,        -inf,        -inf,        -inf],\n       [-0.71862418, -0.41163435,        -inf,        -inf],\n       [-0.62825769,  1.19227511,  0.33665198,        -inf],\n       [-0.75064343, -0.36681443,  0.0722592 , -0.15192721]])"
     },
     "execution_count": 10,
     "metadata": {},
     "output_type": "execute_result"
    }
   ],
   "source": [
    "scaled + mask"
   ],
   "metadata": {
    "collapsed": false,
    "ExecuteTime": {
     "start_time": "2023-04-07T19:01:22.013189Z",
     "end_time": "2023-04-07T19:01:22.033140Z"
    }
   }
  },
  {
   "cell_type": "markdown",
   "source": [
    "## Softmax"
   ],
   "metadata": {
    "collapsed": false
   }
  },
  {
   "cell_type": "code",
   "execution_count": 11,
   "outputs": [],
   "source": [
    "def softmax(x):\n",
    "    return (np.exp(x).T / np.sum(np.exp(x), axis=-1)).T"
   ],
   "metadata": {
    "collapsed": false,
    "ExecuteTime": {
     "start_time": "2023-04-07T19:01:24.431323Z",
     "end_time": "2023-04-07T19:01:24.451018Z"
    }
   }
  },
  {
   "cell_type": "code",
   "execution_count": 12,
   "outputs": [],
   "source": [
    "attention = softmax(scaled + mask)"
   ],
   "metadata": {
    "collapsed": false,
    "ExecuteTime": {
     "start_time": "2023-04-07T19:01:25.103033Z",
     "end_time": "2023-04-07T19:01:25.119954Z"
    }
   }
  },
  {
   "cell_type": "code",
   "execution_count": 13,
   "outputs": [
    {
     "data": {
      "text/plain": "array([[1.        , 0.        , 0.        , 0.        ],\n       [0.42384966, 0.57615034, 0.        , 0.        ],\n       [0.10204396, 0.63013651, 0.26781953, 0.        ],\n       [0.15232814, 0.22360162, 0.34686638, 0.27720387]])"
     },
     "execution_count": 13,
     "metadata": {},
     "output_type": "execute_result"
    }
   ],
   "source": [
    "attention"
   ],
   "metadata": {
    "collapsed": false,
    "ExecuteTime": {
     "start_time": "2023-04-07T19:01:25.844211Z",
     "end_time": "2023-04-07T19:01:25.871164Z"
    }
   }
  },
  {
   "cell_type": "code",
   "execution_count": 14,
   "outputs": [
    {
     "data": {
      "text/plain": "array([[ 0.10021491, -0.32656936, -0.29499322,  1.69677639,  0.18486615,\n         0.60787452,  0.13903236, -0.80996387],\n       [-0.08417421, -0.02903365,  1.75721043,  0.54696358, -0.41088332,\n        -1.10718765,  0.10838188, -0.90574662],\n       [ 0.17906353, -0.49147281,  2.05953944,  0.06241751, -0.51053434,\n        -1.7528393 ,  0.13041618, -0.60688879],\n       [-0.146911  , -0.42730744,  0.41758077,  0.28600241,  0.24678896,\n        -0.66475584,  0.10564082, -0.2294829 ]])"
     },
     "execution_count": 14,
     "metadata": {},
     "output_type": "execute_result"
    }
   ],
   "source": [
    "new_v = np.matmul(attention, v)\n",
    "new_v"
   ],
   "metadata": {
    "collapsed": false,
    "ExecuteTime": {
     "start_time": "2023-04-07T19:01:26.655336Z",
     "end_time": "2023-04-07T19:01:26.670849Z"
    }
   }
  },
  {
   "cell_type": "code",
   "execution_count": 15,
   "outputs": [
    {
     "data": {
      "text/plain": "array([[ 0.10021491, -0.32656936, -0.29499322,  1.69677639,  0.18486615,\n         0.60787452,  0.13903236, -0.80996387],\n       [-0.21982156,  0.18985089,  3.26693063, -0.2989055 , -0.84915124,\n        -2.368887  ,  0.08583361, -0.97620998],\n       [ 1.14761907, -2.15734962,  0.11585952,  0.28983326,  0.02121723,\n        -1.20285114,  0.23202891,  0.33944009],\n       [-1.84374977,  1.18432453, -1.11168081, -0.02222925,  1.44709633,\n         0.68384095, -0.0548812 , -0.02006045]])"
     },
     "execution_count": 15,
     "metadata": {},
     "output_type": "execute_result"
    }
   ],
   "source": [
    "v"
   ],
   "metadata": {
    "collapsed": false,
    "ExecuteTime": {
     "start_time": "2023-04-07T19:01:27.415497Z",
     "end_time": "2023-04-07T19:01:27.437176Z"
    }
   }
  },
  {
   "cell_type": "markdown",
   "source": [
    "## Function"
   ],
   "metadata": {
    "collapsed": false
   }
  },
  {
   "cell_type": "code",
   "execution_count": 16,
   "outputs": [],
   "source": [
    "def softmax(x):\n",
    "    return (np.exp(x).T / np.sum(np.exp(x), axis=-1)).T\n",
    "\n",
    "def scaled_dot_product_attention(q, k, v, mask=None):\n",
    "    d_k = q.shape[-1]\n",
    "    scaled = np.matmul(q, k.T) / math.sqrt(d_k)\n",
    "    if mask is not None:\n",
    "        scaled = scaled + mask\n",
    "    attention = softmax(scaled)\n",
    "    out = np.matmul(attention, v)\n",
    "    return out, attention"
   ],
   "metadata": {
    "collapsed": false,
    "ExecuteTime": {
     "start_time": "2023-04-07T19:01:29.121610Z",
     "end_time": "2023-04-07T19:01:29.134012Z"
    }
   }
  },
  {
   "cell_type": "code",
   "execution_count": 17,
   "outputs": [
    {
     "name": "stdout",
     "output_type": "stream",
     "text": [
      "Q\n",
      " [[-1.80431154 -0.37368754  0.18010639 -0.41175358 -0.30394883  0.44828695\n",
      "   1.53403912 -1.24055926]\n",
      " [ 0.03852399 -0.12737531  0.73924372  0.12165477  1.73989877  0.89172102\n",
      "   1.55223778  1.55887451]\n",
      " [ 0.54602632 -1.64355645 -0.78197596  0.90004299 -0.49636728  0.22885404\n",
      "  -0.13821963  0.59972321]\n",
      " [-0.22494579  0.09870965  0.54050982  0.01470106  0.90192531 -0.14246449\n",
      "   0.83499709  0.11098957]]\n",
      "K\n",
      " [[-0.48213113  1.47288856 -1.8496946  -2.25106863 -1.35438539  0.93500355\n",
      "  -0.11675162  0.97428812]\n",
      " [ 0.72348294 -0.19864244 -1.58457345  1.51892988  0.3553269  -0.81143822\n",
      "  -0.61858356  0.53543886]\n",
      " [ 0.99838551 -0.54932221  2.27421914  1.85088532  0.28980389  1.20969071\n",
      "  -0.89098249 -1.06620449]\n",
      " [-0.61397051 -0.33762844 -0.41239007  0.32558912  0.39238482 -0.3161828\n",
      "  -0.88655283  0.22469547]]\n",
      "V\n",
      " [[ 0.10021491 -0.32656936 -0.29499322  1.69677639  0.18486615  0.60787452\n",
      "   0.13903236 -0.80996387]\n",
      " [-0.21982156  0.18985089  3.26693063 -0.2989055  -0.84915124 -2.368887\n",
      "   0.08583361 -0.97620998]\n",
      " [ 1.14761907 -2.15734962  0.11585952  0.28983326  0.02121723 -1.20285114\n",
      "   0.23202891  0.33944009]\n",
      " [-1.84374977  1.18432453 -1.11168081 -0.02222925  1.44709633  0.68384095\n",
      "  -0.0548812  -0.02006045]]\n",
      "New V\n",
      " [[ 0.10021491 -0.32656936 -0.29499322  1.69677639  0.18486615  0.60787452\n",
      "   0.13903236 -0.80996387]\n",
      " [-0.08417421 -0.02903365  1.75721043  0.54696358 -0.41088332 -1.10718765\n",
      "   0.10838188 -0.90574662]\n",
      " [ 0.17906353 -0.49147281  2.05953944  0.06241751 -0.51053434 -1.7528393\n",
      "   0.13041618 -0.60688879]\n",
      " [-0.146911   -0.42730744  0.41758077  0.28600241  0.24678896 -0.66475584\n",
      "   0.10564082 -0.2294829 ]]\n",
      "Attention\n",
      " [[1.         0.         0.         0.        ]\n",
      " [0.42384966 0.57615034 0.         0.        ]\n",
      " [0.10204396 0.63013651 0.26781953 0.        ]\n",
      " [0.15232814 0.22360162 0.34686638 0.27720387]]\n"
     ]
    }
   ],
   "source": [
    "values, attention = scaled_dot_product_attention(q, k, v, mask=mask)\n",
    "print('Q\\n', q)\n",
    "print('K\\n', k)\n",
    "print('V\\n', v)\n",
    "print('New V\\n', values)\n",
    "print('Attention\\n', attention)"
   ],
   "metadata": {
    "collapsed": false,
    "ExecuteTime": {
     "start_time": "2023-04-07T19:01:30.061161Z",
     "end_time": "2023-04-07T19:01:30.137625Z"
    }
   }
  }
 ],
 "metadata": {
  "kernelspec": {
   "display_name": "Python 3",
   "language": "python",
   "name": "python3"
  },
  "language_info": {
   "codemirror_mode": {
    "name": "ipython",
    "version": 2
   },
   "file_extension": ".py",
   "mimetype": "text/x-python",
   "name": "python",
   "nbconvert_exporter": "python",
   "pygments_lexer": "ipython2",
   "version": "2.7.6"
  }
 },
 "nbformat": 4,
 "nbformat_minor": 0
}
