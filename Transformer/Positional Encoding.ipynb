{
 "cells": [
  {
   "cell_type": "code",
   "execution_count": 1,
   "metadata": {
    "collapsed": true,
    "ExecuteTime": {
     "start_time": "2023-04-07T20:11:48.461254Z",
     "end_time": "2023-04-07T20:11:50.066199Z"
    }
   },
   "outputs": [],
   "source": [
    "import torch\n",
    "import torch.nn as nn"
   ]
  },
  {
   "cell_type": "code",
   "execution_count": 2,
   "outputs": [],
   "source": [
    "max_sequence_length = 10\n",
    "d_model = 6"
   ],
   "metadata": {
    "collapsed": false,
    "ExecuteTime": {
     "start_time": "2023-04-07T20:11:50.069222Z",
     "end_time": "2023-04-07T20:11:50.082231Z"
    }
   }
  },
  {
   "cell_type": "code",
   "execution_count": 3,
   "outputs": [
    {
     "data": {
      "text/plain": "tensor([0., 2., 4.])"
     },
     "execution_count": 3,
     "metadata": {},
     "output_type": "execute_result"
    }
   ],
   "source": [
    "even_i = torch.arange(0, d_model, 2).float()\n",
    "even_i"
   ],
   "metadata": {
    "collapsed": false,
    "ExecuteTime": {
     "start_time": "2023-04-07T20:11:50.083228Z",
     "end_time": "2023-04-07T20:11:50.128125Z"
    }
   }
  },
  {
   "cell_type": "code",
   "execution_count": 4,
   "outputs": [
    {
     "data": {
      "text/plain": "tensor([  1.0000,  21.5443, 464.1590])"
     },
     "execution_count": 4,
     "metadata": {},
     "output_type": "execute_result"
    }
   ],
   "source": [
    "even_denominator = torch.pow(10000, even_i / d_model)\n",
    "even_denominator"
   ],
   "metadata": {
    "collapsed": false,
    "ExecuteTime": {
     "start_time": "2023-04-07T20:11:50.102178Z",
     "end_time": "2023-04-07T20:11:50.128125Z"
    }
   }
  },
  {
   "cell_type": "code",
   "execution_count": 5,
   "outputs": [
    {
     "data": {
      "text/plain": "tensor([1., 3., 5.])"
     },
     "execution_count": 5,
     "metadata": {},
     "output_type": "execute_result"
    }
   ],
   "source": [
    "odd_i = torch.arange(1, d_model, 2).float()\n",
    "odd_i"
   ],
   "metadata": {
    "collapsed": false,
    "ExecuteTime": {
     "start_time": "2023-04-07T20:11:50.115161Z",
     "end_time": "2023-04-07T20:11:50.141091Z"
    }
   }
  },
  {
   "cell_type": "code",
   "execution_count": 6,
   "outputs": [
    {
     "data": {
      "text/plain": "tensor([  1.0000,  21.5443, 464.1590])"
     },
     "execution_count": 6,
     "metadata": {},
     "output_type": "execute_result"
    }
   ],
   "source": [
    "odd_denominator = torch.pow(10000, (odd_i - 1) / d_model)\n",
    "odd_denominator"
   ],
   "metadata": {
    "collapsed": false,
    "ExecuteTime": {
     "start_time": "2023-04-07T20:11:50.131118Z",
     "end_time": "2023-04-07T20:11:50.146079Z"
    }
   }
  },
  {
   "cell_type": "code",
   "execution_count": 7,
   "outputs": [],
   "source": [
    "denominator = even_denominator"
   ],
   "metadata": {
    "collapsed": false,
    "ExecuteTime": {
     "start_time": "2023-04-07T20:11:50.147076Z",
     "end_time": "2023-04-07T20:11:50.190957Z"
    }
   }
  },
  {
   "cell_type": "code",
   "execution_count": 8,
   "outputs": [],
   "source": [
    "position = torch.arange(max_sequence_length, dtype=torch.float).reshape(max_sequence_length, 1)"
   ],
   "metadata": {
    "collapsed": false,
    "ExecuteTime": {
     "start_time": "2023-04-07T20:11:50.163034Z",
     "end_time": "2023-04-07T20:11:50.205918Z"
    }
   }
  },
  {
   "cell_type": "code",
   "execution_count": 9,
   "outputs": [
    {
     "data": {
      "text/plain": "tensor([[0.],\n        [1.],\n        [2.],\n        [3.],\n        [4.],\n        [5.],\n        [6.],\n        [7.],\n        [8.],\n        [9.]])"
     },
     "execution_count": 9,
     "metadata": {},
     "output_type": "execute_result"
    }
   ],
   "source": [
    "position"
   ],
   "metadata": {
    "collapsed": false,
    "ExecuteTime": {
     "start_time": "2023-04-07T20:11:50.178990Z",
     "end_time": "2023-04-07T20:11:50.205918Z"
    }
   }
  },
  {
   "cell_type": "code",
   "execution_count": 10,
   "outputs": [],
   "source": [
    "even_PE = torch.sin(position / denominator)\n",
    "odd_PE = torch.cos(position / denominator)"
   ],
   "metadata": {
    "collapsed": false,
    "ExecuteTime": {
     "start_time": "2023-04-07T20:11:50.195944Z",
     "end_time": "2023-04-07T20:11:50.219880Z"
    }
   }
  },
  {
   "cell_type": "code",
   "execution_count": 11,
   "outputs": [
    {
     "data": {
      "text/plain": "tensor([[ 0.0000,  0.0000,  0.0000],\n        [ 0.8415,  0.0464,  0.0022],\n        [ 0.9093,  0.0927,  0.0043],\n        [ 0.1411,  0.1388,  0.0065],\n        [-0.7568,  0.1846,  0.0086],\n        [-0.9589,  0.2300,  0.0108],\n        [-0.2794,  0.2749,  0.0129],\n        [ 0.6570,  0.3192,  0.0151],\n        [ 0.9894,  0.3629,  0.0172],\n        [ 0.4121,  0.4057,  0.0194]])"
     },
     "execution_count": 11,
     "metadata": {},
     "output_type": "execute_result"
    }
   ],
   "source": [
    "even_PE"
   ],
   "metadata": {
    "collapsed": false,
    "ExecuteTime": {
     "start_time": "2023-04-07T20:11:50.209907Z",
     "end_time": "2023-04-07T20:11:50.284332Z"
    }
   }
  },
  {
   "cell_type": "code",
   "execution_count": 12,
   "outputs": [
    {
     "data": {
      "text/plain": "torch.Size([10, 3])"
     },
     "execution_count": 12,
     "metadata": {},
     "output_type": "execute_result"
    }
   ],
   "source": [
    "even_PE.shape"
   ],
   "metadata": {
    "collapsed": false,
    "ExecuteTime": {
     "start_time": "2023-04-07T20:11:50.226862Z",
     "end_time": "2023-04-07T20:11:50.314966Z"
    }
   }
  },
  {
   "cell_type": "code",
   "execution_count": 13,
   "outputs": [
    {
     "data": {
      "text/plain": "tensor([[ 1.0000,  1.0000,  1.0000],\n        [ 0.5403,  0.9989,  1.0000],\n        [-0.4161,  0.9957,  1.0000],\n        [-0.9900,  0.9903,  1.0000],\n        [-0.6536,  0.9828,  1.0000],\n        [ 0.2837,  0.9732,  0.9999],\n        [ 0.9602,  0.9615,  0.9999],\n        [ 0.7539,  0.9477,  0.9999],\n        [-0.1455,  0.9318,  0.9999],\n        [-0.9111,  0.9140,  0.9998]])"
     },
     "execution_count": 13,
     "metadata": {},
     "output_type": "execute_result"
    }
   ],
   "source": [
    "odd_PE"
   ],
   "metadata": {
    "collapsed": false,
    "ExecuteTime": {
     "start_time": "2023-04-07T20:11:50.243816Z",
     "end_time": "2023-04-07T20:11:50.315726Z"
    }
   }
  },
  {
   "cell_type": "code",
   "execution_count": 14,
   "outputs": [
    {
     "data": {
      "text/plain": "torch.Size([10, 3])"
     },
     "execution_count": 14,
     "metadata": {},
     "output_type": "execute_result"
    }
   ],
   "source": [
    "odd_PE.shape"
   ],
   "metadata": {
    "collapsed": false,
    "ExecuteTime": {
     "start_time": "2023-04-07T20:11:50.262765Z",
     "end_time": "2023-04-07T20:11:50.315726Z"
    }
   }
  },
  {
   "cell_type": "code",
   "execution_count": 15,
   "outputs": [
    {
     "data": {
      "text/plain": "torch.Size([10, 3, 2])"
     },
     "execution_count": 15,
     "metadata": {},
     "output_type": "execute_result"
    }
   ],
   "source": [
    "stacked = torch.stack([even_PE, odd_PE], dim=2)\n",
    "stacked.shape"
   ],
   "metadata": {
    "collapsed": false,
    "ExecuteTime": {
     "start_time": "2023-04-07T20:11:50.273736Z",
     "end_time": "2023-04-07T20:11:50.315726Z"
    }
   }
  },
  {
   "cell_type": "code",
   "execution_count": 16,
   "outputs": [
    {
     "data": {
      "text/plain": "tensor([[ 0.0000,  1.0000,  0.0000,  1.0000,  0.0000,  1.0000],\n        [ 0.8415,  0.5403,  0.0464,  0.9989,  0.0022,  1.0000],\n        [ 0.9093, -0.4161,  0.0927,  0.9957,  0.0043,  1.0000],\n        [ 0.1411, -0.9900,  0.1388,  0.9903,  0.0065,  1.0000],\n        [-0.7568, -0.6536,  0.1846,  0.9828,  0.0086,  1.0000],\n        [-0.9589,  0.2837,  0.2300,  0.9732,  0.0108,  0.9999],\n        [-0.2794,  0.9602,  0.2749,  0.9615,  0.0129,  0.9999],\n        [ 0.6570,  0.7539,  0.3192,  0.9477,  0.0151,  0.9999],\n        [ 0.9894, -0.1455,  0.3629,  0.9318,  0.0172,  0.9999],\n        [ 0.4121, -0.9111,  0.4057,  0.9140,  0.0194,  0.9998]])"
     },
     "execution_count": 16,
     "metadata": {},
     "output_type": "execute_result"
    }
   ],
   "source": [
    "PE = torch.flatten(stacked, start_dim=1, end_dim=2)\n",
    "PE"
   ],
   "metadata": {
    "collapsed": false,
    "ExecuteTime": {
     "start_time": "2023-04-07T20:11:50.288086Z",
     "end_time": "2023-04-07T20:11:50.316721Z"
    }
   }
  },
  {
   "cell_type": "markdown",
   "source": [
    "## Class"
   ],
   "metadata": {
    "collapsed": false
   }
  },
  {
   "cell_type": "code",
   "execution_count": 17,
   "outputs": [],
   "source": [
    "class PositionalEncoding(nn.Module):\n",
    "    def __init__(self, d_model, max_sequence_length):\n",
    "        super().__init__()\n",
    "        self.max_sequence_length = max_sequence_length\n",
    "        self.d_model = d_model\n",
    "\n",
    "    def forward(self):\n",
    "        even_i = torch.arange(0, self.d_model, 2).float()\n",
    "        denominator = torch.pow(10000, even_i / self.d_model)\n",
    "        position = torch.arange(self.max_sequence_length).reshape(self.max_sequence_length, 1)\n",
    "        even_PE = torch.sin(position / denominator)\n",
    "        odd_PE = torch.cos(position / denominator)\n",
    "        stacked = torch.stack([even_PE, odd_PE], dim=2)\n",
    "        PE = torch.flatten(stacked, start_dim=1, end_dim=2)\n",
    "        return PE"
   ],
   "metadata": {
    "collapsed": false,
    "ExecuteTime": {
     "start_time": "2023-04-07T20:11:50.306364Z",
     "end_time": "2023-04-07T20:11:50.377004Z"
    }
   }
  },
  {
   "cell_type": "code",
   "execution_count": 18,
   "outputs": [
    {
     "data": {
      "text/plain": "tensor([[ 0.0000,  1.0000,  0.0000,  1.0000,  0.0000,  1.0000],\n        [ 0.8415,  0.5403,  0.0464,  0.9989,  0.0022,  1.0000],\n        [ 0.9093, -0.4161,  0.0927,  0.9957,  0.0043,  1.0000],\n        [ 0.1411, -0.9900,  0.1388,  0.9903,  0.0065,  1.0000],\n        [-0.7568, -0.6536,  0.1846,  0.9828,  0.0086,  1.0000],\n        [-0.9589,  0.2837,  0.2300,  0.9732,  0.0108,  0.9999],\n        [-0.2794,  0.9602,  0.2749,  0.9615,  0.0129,  0.9999],\n        [ 0.6570,  0.7539,  0.3192,  0.9477,  0.0151,  0.9999],\n        [ 0.9894, -0.1455,  0.3629,  0.9318,  0.0172,  0.9999],\n        [ 0.4121, -0.9111,  0.4057,  0.9140,  0.0194,  0.9998]])"
     },
     "execution_count": 18,
     "metadata": {},
     "output_type": "execute_result"
    }
   ],
   "source": [
    "pe = PositionalEncoding(d_model=6, max_sequence_length=10)\n",
    "pe.forward()"
   ],
   "metadata": {
    "collapsed": false,
    "ExecuteTime": {
     "start_time": "2023-04-07T20:11:50.319717Z",
     "end_time": "2023-04-07T20:11:50.408842Z"
    }
   }
  }
 ],
 "metadata": {
  "kernelspec": {
   "display_name": "Python 3",
   "language": "python",
   "name": "python3"
  },
  "language_info": {
   "codemirror_mode": {
    "name": "ipython",
    "version": 2
   },
   "file_extension": ".py",
   "mimetype": "text/x-python",
   "name": "python",
   "nbconvert_exporter": "python",
   "pygments_lexer": "ipython2",
   "version": "2.7.6"
  }
 },
 "nbformat": 4,
 "nbformat_minor": 0
}
