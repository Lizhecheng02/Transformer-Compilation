{
 "cells": [
  {
   "cell_type": "code",
   "execution_count": 1,
   "metadata": {
    "collapsed": true,
    "ExecuteTime": {
     "start_time": "2023-04-07T19:15:32.768927Z",
     "end_time": "2023-04-07T19:15:32.796428Z"
    }
   },
   "outputs": [],
   "source": [
    "import numpy as np\n",
    "import torch\n",
    "import torch.nn as nn\n",
    "import torch.nn.functional as F\n",
    "import matplotlib.pyplot as plt\n",
    "import math"
   ]
  },
  {
   "cell_type": "code",
   "execution_count": 2,
   "outputs": [],
   "source": [
    "sequence_length = 4\n",
    "batch_size = 1\n",
    "input_dim = 32\n",
    "d_model = 512\n",
    "x = torch.randn((batch_size, sequence_length, input_dim))"
   ],
   "metadata": {
    "collapsed": false,
    "ExecuteTime": {
     "start_time": "2023-04-07T19:09:31.458345Z",
     "end_time": "2023-04-07T19:09:31.474300Z"
    }
   }
  },
  {
   "cell_type": "code",
   "execution_count": 3,
   "outputs": [
    {
     "data": {
      "text/plain": "torch.Size([1, 4, 32])"
     },
     "execution_count": 3,
     "metadata": {},
     "output_type": "execute_result"
    }
   ],
   "source": [
    "x.size()"
   ],
   "metadata": {
    "collapsed": false,
    "ExecuteTime": {
     "start_time": "2023-04-07T19:09:34.296516Z",
     "end_time": "2023-04-07T19:09:34.314605Z"
    }
   }
  },
  {
   "cell_type": "code",
   "execution_count": 4,
   "outputs": [],
   "source": [
    "qkv_layer = nn.Linear(input_dim, 3 * d_model)"
   ],
   "metadata": {
    "collapsed": false,
    "ExecuteTime": {
     "start_time": "2023-04-07T19:09:53.011787Z",
     "end_time": "2023-04-07T19:09:53.024745Z"
    }
   }
  },
  {
   "cell_type": "code",
   "execution_count": 5,
   "outputs": [],
   "source": [
    "qkv = qkv_layer(x)"
   ],
   "metadata": {
    "collapsed": false,
    "ExecuteTime": {
     "start_time": "2023-04-07T19:10:02.896199Z",
     "end_time": "2023-04-07T19:10:02.926551Z"
    }
   }
  },
  {
   "cell_type": "code",
   "execution_count": 6,
   "outputs": [
    {
     "data": {
      "text/plain": "torch.Size([1, 4, 1536])"
     },
     "execution_count": 6,
     "metadata": {},
     "output_type": "execute_result"
    }
   ],
   "source": [
    "qkv.shape"
   ],
   "metadata": {
    "collapsed": false,
    "ExecuteTime": {
     "start_time": "2023-04-07T19:10:05.304385Z",
     "end_time": "2023-04-07T19:10:05.322336Z"
    }
   }
  },
  {
   "cell_type": "code",
   "execution_count": 7,
   "outputs": [
    {
     "data": {
      "text/plain": "<Figure size 640x480 with 1 Axes>",
      "image/png": "[encoded data removed]"
     },
     "metadata": {},
     "output_type": "display_data"
    }
   ],
   "source": [
    "y_val = torch.histc(qkv, bins=200, min=-3, max=3)\n",
    "x_val = np.arange(-1, 1, 0.01) * 3\n",
    "plt.bar(x_val, y_val, align='center', color=['forestgreen'])\n",
    "plt.title('qkv distribution')\n",
    "plt.show()"
   ],
   "metadata": {
    "collapsed": false,
    "ExecuteTime": {
     "start_time": "2023-04-07T19:11:46.581597Z",
     "end_time": "2023-04-07T19:11:47.145567Z"
    }
   }
  },
  {
   "cell_type": "code",
   "execution_count": 8,
   "outputs": [],
   "source": [
    "num_heads = 8\n",
    "head_dim = d_model // num_heads\n",
    "qkv = qkv.reshape(batch_size, sequence_length, num_heads, 3 * head_dim)"
   ],
   "metadata": {
    "collapsed": false,
    "ExecuteTime": {
     "start_time": "2023-04-07T19:13:03.044210Z",
     "end_time": "2023-04-07T19:13:03.060705Z"
    }
   }
  },
  {
   "cell_type": "code",
   "execution_count": 9,
   "outputs": [
    {
     "data": {
      "text/plain": "torch.Size([1, 4, 8, 192])"
     },
     "execution_count": 9,
     "metadata": {},
     "output_type": "execute_result"
    }
   ],
   "source": [
    "qkv.shape"
   ],
   "metadata": {
    "collapsed": false,
    "ExecuteTime": {
     "start_time": "2023-04-07T19:13:06.938354Z",
     "end_time": "2023-04-07T19:13:06.959545Z"
    }
   }
  },
  {
   "cell_type": "code",
   "execution_count": 10,
   "outputs": [
    {
     "data": {
      "text/plain": "torch.Size([1, 8, 4, 192])"
     },
     "execution_count": 10,
     "metadata": {},
     "output_type": "execute_result"
    }
   ],
   "source": [
    "qkv = qkv.permute(0, 2, 1, 3)\n",
    "qkv.shape"
   ],
   "metadata": {
    "collapsed": false,
    "ExecuteTime": {
     "start_time": "2023-04-07T19:13:24.500321Z",
     "end_time": "2023-04-07T19:13:24.567174Z"
    }
   }
  },
  {
   "cell_type": "code",
   "execution_count": 11,
   "outputs": [
    {
     "data": {
      "text/plain": "(torch.Size([1, 8, 4, 64]),\n torch.Size([1, 8, 4, 64]),\n torch.Size([1, 8, 4, 64]))"
     },
     "execution_count": 11,
     "metadata": {},
     "output_type": "execute_result"
    }
   ],
   "source": [
    "q, k, v = qkv.chunk(3, dim=-1)\n",
    "q.shape, k.shape, v.shape"
   ],
   "metadata": {
    "collapsed": false,
    "ExecuteTime": {
     "start_time": "2023-04-07T19:13:50.433280Z",
     "end_time": "2023-04-07T19:13:50.464223Z"
    }
   }
  },
  {
   "cell_type": "markdown",
   "source": [
    "## Self Attention for Multi-head"
   ],
   "metadata": {
    "collapsed": false
   }
  },
  {
   "cell_type": "code",
   "execution_count": 12,
   "outputs": [
    {
     "data": {
      "text/plain": "torch.Size([1, 8, 4, 4])"
     },
     "execution_count": 12,
     "metadata": {},
     "output_type": "execute_result"
    }
   ],
   "source": [
    "d_k = q.size()[-1]\n",
    "scaled = torch.matmul(q, k.transpose(-2, -1)) / math.sqrt(d_k)\n",
    "scaled.shape"
   ],
   "metadata": {
    "collapsed": false,
    "ExecuteTime": {
     "start_time": "2023-04-07T19:15:36.565571Z",
     "end_time": "2023-04-07T19:15:36.579568Z"
    }
   }
  },
  {
   "cell_type": "code",
   "execution_count": 13,
   "outputs": [
    {
     "name": "stderr",
     "output_type": "stream",
     "text": [
      "C:\\Users\\86183\\AppData\\Local\\Temp\\ipykernel_11060\\3997191513.py:1: UserWarning: The use of `x.T` on tensors of dimension other than 2 to reverse their shape is deprecated and it will throw an error in a future release. Consider `x.mT` to transpose batches of matrices or `x.permute(*torch.arange(x.ndim - 1, -1, -1))` to reverse the dimensions of a tensor. (Triggered internally at ..\\aten\\src\\ATen\\native\\TensorShape.cpp:3575.)\n",
      "  k.T.shape  # We should not use this, because it is four-dimension\n"
     ]
    },
    {
     "data": {
      "text/plain": "torch.Size([64, 4, 8, 1])"
     },
     "execution_count": 13,
     "metadata": {},
     "output_type": "execute_result"
    }
   ],
   "source": [
    "k.T.shape  # We should not use this, because it is four-dimension"
   ],
   "metadata": {
    "collapsed": false,
    "ExecuteTime": {
     "start_time": "2023-04-07T19:15:50.170250Z",
     "end_time": "2023-04-07T19:15:50.190197Z"
    }
   }
  },
  {
   "cell_type": "code",
   "execution_count": 14,
   "outputs": [
    {
     "data": {
      "text/plain": "tensor([[ 0.1846, -0.3508],\n        [-0.3807,  0.0208],\n        [ 1.8656, -0.6893]])"
     },
     "execution_count": 14,
     "metadata": {},
     "output_type": "execute_result"
    }
   ],
   "source": [
    "y = torch.randn((2, 3))\n",
    "torch.transpose(y, 0, 1) # Turn shape(2, 3) to shape(3, 2)"
   ],
   "metadata": {
    "collapsed": false,
    "ExecuteTime": {
     "start_time": "2023-04-07T19:17:25.350285Z",
     "end_time": "2023-04-07T19:17:25.402821Z"
    }
   }
  },
  {
   "cell_type": "code",
   "execution_count": 15,
   "outputs": [
    {
     "data": {
      "text/plain": "tensor([[ 0.1846, -0.3508],\n        [-0.3807,  0.0208],\n        [ 1.8656, -0.6893]])"
     },
     "execution_count": 15,
     "metadata": {},
     "output_type": "execute_result"
    }
   ],
   "source": [
    "torch.transpose(y, 1, 0)"
   ],
   "metadata": {
    "collapsed": false,
    "ExecuteTime": {
     "start_time": "2023-04-07T19:17:59.841213Z",
     "end_time": "2023-04-07T19:17:59.872603Z"
    }
   }
  },
  {
   "cell_type": "code",
   "execution_count": 16,
   "outputs": [
    {
     "data": {
      "text/plain": "tensor([[[[True, True, True, True],\n          [True, True, True, True],\n          [True, True, True, True],\n          ...,\n          [True, True, True, True],\n          [True, True, True, True],\n          [True, True, True, True]],\n\n         [[True, True, True, True],\n          [True, True, True, True],\n          [True, True, True, True],\n          ...,\n          [True, True, True, True],\n          [True, True, True, True],\n          [True, True, True, True]],\n\n         [[True, True, True, True],\n          [True, True, True, True],\n          [True, True, True, True],\n          ...,\n          [True, True, True, True],\n          [True, True, True, True],\n          [True, True, True, True]],\n\n         ...,\n\n         [[True, True, True, True],\n          [True, True, True, True],\n          [True, True, True, True],\n          ...,\n          [True, True, True, True],\n          [True, True, True, True],\n          [True, True, True, True]],\n\n         [[True, True, True, True],\n          [True, True, True, True],\n          [True, True, True, True],\n          ...,\n          [True, True, True, True],\n          [True, True, True, True],\n          [True, True, True, True]],\n\n         [[True, True, True, True],\n          [True, True, True, True],\n          [True, True, True, True],\n          ...,\n          [True, True, True, True],\n          [True, True, True, True],\n          [True, True, True, True]]]])"
     },
     "execution_count": 16,
     "metadata": {},
     "output_type": "execute_result"
    }
   ],
   "source": [
    "k.transpose(-1, -2) == k.transpose(-2, -1)"
   ],
   "metadata": {
    "collapsed": false,
    "ExecuteTime": {
     "start_time": "2023-04-07T19:18:40.466625Z",
     "end_time": "2023-04-07T19:18:40.518139Z"
    }
   }
  },
  {
   "cell_type": "code",
   "execution_count": 17,
   "outputs": [
    {
     "data": {
      "text/plain": "torch.Size([1, 8, 64, 4])"
     },
     "execution_count": 17,
     "metadata": {},
     "output_type": "execute_result"
    }
   ],
   "source": [
    "k.transpose(-1, -2).shape"
   ],
   "metadata": {
    "collapsed": false,
    "ExecuteTime": {
     "start_time": "2023-04-07T19:18:52.347349Z",
     "end_time": "2023-04-07T19:18:52.412693Z"
    }
   }
  },
  {
   "cell_type": "code",
   "execution_count": 18,
   "outputs": [
    {
     "data": {
      "text/plain": "tensor([[0., -inf, -inf, -inf],\n        [0., 0., -inf, -inf],\n        [0., 0., 0., -inf],\n        [0., 0., 0., 0.]])"
     },
     "execution_count": 18,
     "metadata": {},
     "output_type": "execute_result"
    }
   ],
   "source": [
    "mask = torch.full(scaled.size(), float('-inf'))\n",
    "mask = torch.triu(mask, diagonal=1)\n",
    "mask[0][1]"
   ],
   "metadata": {
    "collapsed": false,
    "ExecuteTime": {
     "start_time": "2023-04-07T19:19:40.523949Z",
     "end_time": "2023-04-07T19:19:40.575494Z"
    }
   }
  },
  {
   "cell_type": "code",
   "execution_count": 19,
   "outputs": [
    {
     "data": {
      "text/plain": "tensor([[ 0.0490,    -inf,    -inf,    -inf],\n        [ 0.4005,  0.2372,    -inf,    -inf],\n        [-0.2939,  0.0830,  0.1027,    -inf],\n        [ 0.1220,  0.7313,  0.4508,  0.1825]], grad_fn=<SelectBackward0>)"
     },
     "execution_count": 19,
     "metadata": {},
     "output_type": "execute_result"
    }
   ],
   "source": [
    "(scaled + mask)[0][0]"
   ],
   "metadata": {
    "collapsed": false,
    "ExecuteTime": {
     "start_time": "2023-04-07T19:20:10.011733Z",
     "end_time": "2023-04-07T19:20:10.048634Z"
    }
   }
  },
  {
   "cell_type": "code",
   "execution_count": 20,
   "outputs": [],
   "source": [
    "scaled += mask"
   ],
   "metadata": {
    "collapsed": false,
    "ExecuteTime": {
     "start_time": "2023-04-07T19:20:18.709913Z",
     "end_time": "2023-04-07T19:20:18.724905Z"
    }
   }
  },
  {
   "cell_type": "code",
   "execution_count": 21,
   "outputs": [],
   "source": [
    "attetion = F.softmax(scaled, dim=-1)"
   ],
   "metadata": {
    "collapsed": false,
    "ExecuteTime": {
     "start_time": "2023-04-07T19:20:36.265647Z",
     "end_time": "2023-04-07T19:20:36.285882Z"
    }
   }
  },
  {
   "cell_type": "code",
   "execution_count": 22,
   "outputs": [
    {
     "data": {
      "text/plain": "torch.Size([1, 8, 4, 4])"
     },
     "execution_count": 22,
     "metadata": {},
     "output_type": "execute_result"
    }
   ],
   "source": [
    "attetion.shape"
   ],
   "metadata": {
    "collapsed": false,
    "ExecuteTime": {
     "start_time": "2023-04-07T19:20:40.311452Z",
     "end_time": "2023-04-07T19:20:40.323420Z"
    }
   }
  },
  {
   "cell_type": "code",
   "execution_count": 23,
   "outputs": [
    {
     "data": {
      "text/plain": "tensor([[1.0000, 0.0000, 0.0000, 0.0000],\n        [0.5408, 0.4592, 0.0000, 0.0000],\n        [0.2535, 0.3696, 0.3769, 0.0000],\n        [0.1890, 0.3476, 0.2626, 0.2008]], grad_fn=<SelectBackward0>)"
     },
     "execution_count": 23,
     "metadata": {},
     "output_type": "execute_result"
    }
   ],
   "source": [
    "attetion[0][0]"
   ],
   "metadata": {
    "collapsed": false,
    "ExecuteTime": {
     "start_time": "2023-04-07T19:20:48.760008Z",
     "end_time": "2023-04-07T19:20:48.779954Z"
    }
   }
  },
  {
   "cell_type": "code",
   "execution_count": 24,
   "outputs": [
    {
     "data": {
      "text/plain": "torch.Size([1, 8, 4, 64])"
     },
     "execution_count": 24,
     "metadata": {},
     "output_type": "execute_result"
    }
   ],
   "source": [
    "values = torch.matmul(attetion, v)\n",
    "values.shape"
   ],
   "metadata": {
    "collapsed": false,
    "ExecuteTime": {
     "start_time": "2023-04-07T19:21:04.126020Z",
     "end_time": "2023-04-07T19:21:04.146962Z"
    }
   }
  },
  {
   "cell_type": "markdown",
   "source": [
    "## Function"
   ],
   "metadata": {
    "collapsed": false
   }
  },
  {
   "cell_type": "code",
   "execution_count": 25,
   "outputs": [],
   "source": [
    "def scaled_dot_product_attention(q, k, v, mask=None):\n",
    "    d_k = q.size()[-1]\n",
    "    scaled = torch.matmul(q, k.transpose(-1, -2)) / math.sqrt(d_k)\n",
    "    if mask is not None:\n",
    "        scaled = scaled + mask\n",
    "    attention = F.softmax(scaled, dim=-1)\n",
    "    values = torch.matmul(attention, v)\n",
    "    return values, attention"
   ],
   "metadata": {
    "collapsed": false,
    "ExecuteTime": {
     "start_time": "2023-04-07T19:23:25.489826Z",
     "end_time": "2023-04-07T19:23:25.517786Z"
    }
   }
  },
  {
   "cell_type": "code",
   "execution_count": 26,
   "outputs": [],
   "source": [
    "values, attetion = scaled_dot_product_attention(q, k, v, mask=mask)"
   ],
   "metadata": {
    "collapsed": false,
    "ExecuteTime": {
     "start_time": "2023-04-07T19:23:26.691598Z",
     "end_time": "2023-04-07T19:23:26.700572Z"
    }
   }
  },
  {
   "cell_type": "code",
   "execution_count": 27,
   "outputs": [
    {
     "data": {
      "text/plain": "torch.Size([1, 8, 4, 4])"
     },
     "execution_count": 27,
     "metadata": {},
     "output_type": "execute_result"
    }
   ],
   "source": [
    "attetion.shape"
   ],
   "metadata": {
    "collapsed": false,
    "ExecuteTime": {
     "start_time": "2023-04-07T19:23:33.076545Z",
     "end_time": "2023-04-07T19:23:33.098659Z"
    }
   }
  },
  {
   "cell_type": "code",
   "execution_count": 28,
   "outputs": [
    {
     "data": {
      "text/plain": "tensor([[1.0000, 0.0000, 0.0000, 0.0000],\n        [0.5408, 0.4592, 0.0000, 0.0000],\n        [0.2535, 0.3696, 0.3769, 0.0000],\n        [0.1890, 0.3476, 0.2626, 0.2008]], grad_fn=<SelectBackward0>)"
     },
     "execution_count": 28,
     "metadata": {},
     "output_type": "execute_result"
    }
   ],
   "source": [
    "attetion[0][0]"
   ],
   "metadata": {
    "collapsed": false,
    "ExecuteTime": {
     "start_time": "2023-04-07T19:23:37.801104Z",
     "end_time": "2023-04-07T19:23:37.825039Z"
    }
   }
  },
  {
   "cell_type": "code",
   "execution_count": 29,
   "outputs": [
    {
     "data": {
      "text/plain": "torch.Size([1, 8, 4, 64])"
     },
     "execution_count": 29,
     "metadata": {},
     "output_type": "execute_result"
    }
   ],
   "source": [
    "values.size()"
   ],
   "metadata": {
    "collapsed": false,
    "ExecuteTime": {
     "start_time": "2023-04-07T19:23:47.725559Z",
     "end_time": "2023-04-07T19:23:47.742989Z"
    }
   }
  },
  {
   "cell_type": "code",
   "execution_count": 30,
   "outputs": [
    {
     "data": {
      "text/plain": "torch.Size([1, 4, 512])"
     },
     "execution_count": 30,
     "metadata": {},
     "output_type": "execute_result"
    }
   ],
   "source": [
    "values = values.reshape(batch_size, sequence_length, num_heads * head_dim)\n",
    "values.size()"
   ],
   "metadata": {
    "collapsed": false,
    "ExecuteTime": {
     "start_time": "2023-04-07T19:24:16.163778Z",
     "end_time": "2023-04-07T19:24:16.192699Z"
    }
   }
  },
  {
   "cell_type": "code",
   "execution_count": 31,
   "outputs": [],
   "source": [
    "linear_layer = nn.Linear(d_model, d_model)"
   ],
   "metadata": {
    "collapsed": false,
    "ExecuteTime": {
     "start_time": "2023-04-07T19:24:41.026762Z",
     "end_time": "2023-04-07T19:24:41.043745Z"
    }
   }
  },
  {
   "cell_type": "code",
   "execution_count": 32,
   "outputs": [],
   "source": [
    "out = linear_layer(values)"
   ],
   "metadata": {
    "collapsed": false,
    "ExecuteTime": {
     "start_time": "2023-04-07T19:24:49.835746Z",
     "end_time": "2023-04-07T19:24:49.869657Z"
    }
   }
  },
  {
   "cell_type": "code",
   "execution_count": 33,
   "outputs": [
    {
     "data": {
      "text/plain": "torch.Size([1, 4, 512])"
     },
     "execution_count": 33,
     "metadata": {},
     "output_type": "execute_result"
    }
   ],
   "source": [
    "out.shape"
   ],
   "metadata": {
    "collapsed": false,
    "ExecuteTime": {
     "start_time": "2023-04-07T19:24:52.173612Z",
     "end_time": "2023-04-07T19:24:52.192561Z"
    }
   }
  },
  {
   "cell_type": "code",
   "execution_count": 34,
   "outputs": [
    {
     "data": {
      "text/plain": "tensor([[[ 0.0999,  0.5848,  0.0976,  ...,  0.4637,  0.0204, -0.0242],\n         [-0.1156, -0.0478, -0.1861,  ...,  0.5174, -0.0800, -0.2994],\n         [ 0.3238, -0.2023,  0.2258,  ...,  0.1186,  0.0608,  0.1076],\n         [ 0.2694,  0.4962,  0.0677,  ...,  0.0399, -0.1956,  0.0491]]],\n       grad_fn=<ViewBackward0>)"
     },
     "execution_count": 34,
     "metadata": {},
     "output_type": "execute_result"
    }
   ],
   "source": [
    "out"
   ],
   "metadata": {
    "collapsed": false,
    "ExecuteTime": {
     "start_time": "2023-04-07T19:24:54.695982Z",
     "end_time": "2023-04-07T19:24:54.744297Z"
    }
   }
  },
  {
   "cell_type": "markdown",
   "source": [
    "## Class"
   ],
   "metadata": {
    "collapsed": false
   }
  },
  {
   "cell_type": "code",
   "execution_count": 35,
   "outputs": [],
   "source": [
    "def scaled_dot_product_attention(q, k, v, mask=None):\n",
    "    d_k = q.size()[-1]\n",
    "    scaled = torch.matmul(q, k.transpose(-1, -2)) / math.sqrt(d_k)\n",
    "    if mask is not None:\n",
    "        scaled = scaled + mask\n",
    "    attention = F.softmax(scaled, dim=-1)\n",
    "    values = torch.matmul(attention, v)\n",
    "    return values, attention\n",
    "\n",
    "class Multi_heads_Attention(nn.Module):\n",
    "    def __init__(self, input_dim, d_model, num_heads):\n",
    "        super().__init__()\n",
    "        self.input_dim = input_dim\n",
    "        self.d_model = d_model\n",
    "        self.num_heads = num_heads\n",
    "        self.head_dim = d_model // num_heads\n",
    "        self.qkv_layer = nn.Linear(input_dim, 3 * d_model)\n",
    "        self.linear_layer = nn.Linear(d_model, d_model)\n",
    "\n",
    "    def forward(self, x, mask=None):\n",
    "        batch_size, sequence_length, input_dim = x.size()\n",
    "        print(f'x.size(): {x.size()}')\n",
    "        qkv = self.qkv_layer(x)\n",
    "        print(f'qkv.size(): {qkv.size()}')\n",
    "        qkv = qkv.reshape(batch_size, sequence_length, self.num_heads, 3 * self.head_dim)\n",
    "        print(f'qkv.size(): {qkv.size()}')\n",
    "        qkv = qkv.permute(0, 2, 1, 3)\n",
    "        print(f'qkv.size(): {qkv.size()}')\n",
    "        q, k, v = qkv.chunk(3, dim=-1)\n",
    "        print(f'q.size(): {q.size()}, k.size(): {k.size()}, v.size(): {v.size()}')\n",
    "        values, attention = scaled_dot_product_attention(q, k, v, mask)\n",
    "        print(f'values.size(): {values.size()}, attention.size(): {attention.size()}')\n",
    "        values = values.reshape(batch_size, sequence_length, self.num_heads * self.head_dim)\n",
    "        print(f'values.size(): {values.size()}')\n",
    "        out = self.linear_layer(values)\n",
    "        print(f'out.size(): {out.size()}')\n",
    "        return out"
   ],
   "metadata": {
    "collapsed": false,
    "ExecuteTime": {
     "start_time": "2023-04-07T19:33:45.542429Z",
     "end_time": "2023-04-07T19:33:45.574763Z"
    }
   }
  },
  {
   "cell_type": "code",
   "execution_count": 36,
   "outputs": [
    {
     "name": "stdout",
     "output_type": "stream",
     "text": [
      "x.size(): torch.Size([32, 5, 1024])\n",
      "qkv.size(): torch.Size([32, 5, 1536])\n",
      "qkv.size(): torch.Size([32, 5, 8, 192])\n",
      "qkv.size(): torch.Size([32, 8, 5, 192])\n",
      "q.size(): torch.Size([32, 8, 5, 64]), k.size(): torch.Size([32, 8, 5, 64]), v.size(): torch.Size([32, 8, 5, 64])\n",
      "values.size(): torch.Size([32, 8, 5, 64]), attention.size(): torch.Size([32, 8, 5, 5])\n",
      "values.size(): torch.Size([32, 5, 512])\n",
      "out.size(): torch.Size([32, 5, 512])\n"
     ]
    }
   ],
   "source": [
    "input_dim = 1024\n",
    "d_model = 512\n",
    "num_heads = 8\n",
    "batch_size = 32\n",
    "sequence_length = 5\n",
    "x = torch.randn((batch_size, sequence_length, input_dim))\n",
    "\n",
    "model = Multi_heads_Attention(input_dim, d_model, num_heads)\n",
    "out = model.forward(x)"
   ],
   "metadata": {
    "collapsed": false,
    "ExecuteTime": {
     "start_time": "2023-04-07T19:35:09.234054Z",
     "end_time": "2023-04-07T19:35:09.287909Z"
    }
   }
  }
 ],
 "metadata": {
  "kernelspec": {
   "display_name": "Python 3",
   "language": "python",
   "name": "python3"
  },
  "language_info": {
   "codemirror_mode": {
    "name": "ipython",
    "version": 2
   },
   "file_extension": ".py",
   "mimetype": "text/x-python",
   "name": "python",
   "nbconvert_exporter": "python",
   "pygments_lexer": "ipython2",
   "version": "2.7.6"
  }
 },
 "nbformat": 4,
 "nbformat_minor": 0
}
